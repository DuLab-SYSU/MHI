{
 "cells": [
  {
   "cell_type": "code",
   "execution_count": 4,
   "metadata": {},
   "outputs": [],
   "source": [
    "import pandas as pd\n",
    "from collections import Counter"
   ]
  },
  {
   "cell_type": "code",
   "execution_count": 5,
   "metadata": {},
   "outputs": [],
   "source": [
    "geneName = pd.read_csv(r'../../Biomart_geneid.txt',\n",
    "                       sep=\"\\t\",\n",
    "                       header=None)\n",
    "geneName.columns = ['ID', 'Symbol']\n",
    "id_count = dict(Counter(geneName['ID'].tolist()))\n",
    "id_retain = [k for k,v in id_count.items() if v == 1]\n",
    "\n",
    "geneName2 = geneName[geneName['ID'].isin(id_retain)]\n",
    "id_name = dict(zip(geneName2['ID'], geneName2['Symbol']))\n",
    "\n",
    "def id2name(id):\n",
    "    if id in id_name.keys():\n",
    "        return id_name[id]\n",
    "    else:\n",
    "        return 0"
   ]
  },
  {
   "cell_type": "code",
   "execution_count": 8,
   "metadata": {},
   "outputs": [
    {
     "data": {
      "text/plain": [
       "'IL12B'"
      ]
     },
     "execution_count": 8,
     "metadata": {},
     "output_type": "execute_result"
    }
   ],
   "source": [
    "id2name('3593')"
   ]
  },
  {
   "cell_type": "code",
   "execution_count": 18,
   "metadata": {},
   "outputs": [],
   "source": [
    "disease_gene = {}\n",
    "with open(r'DataS2_disease_genes.tsv') as f:\n",
    "    for row in f:\n",
    "        if row.startswith('#'):\n",
    "            pass\n",
    "        else:\n",
    "            cols = row.strip().split('\\t')\n",
    "            if len(cols) == 5:\n",
    "                genes= [id2name(g) for g in cols[4].split(';')]\n",
    "            else:\n",
    "                genes= [id2name(g) for g in cols[4].split(';') + cols[5].split(';')]\n",
    "            disease_gene[cols[0]] = genes\n",
    "            #print(cols[5])"
   ]
  },
  {
   "cell_type": "code",
   "execution_count": 22,
   "metadata": {},
   "outputs": [],
   "source": [
    "with open(r'disease_genes.txt', 'a') as out_f:\n",
    "    for d in disease_gene:\n",
    "        for g in disease_gene[d]:\n",
    "            if g != 0:\n",
    "                out_f.write(d + \"\\t\" + g + \"\\n\")"
   ]
  },
  {
   "cell_type": "code",
   "execution_count": null,
   "metadata": {},
   "outputs": [],
   "source": []
  }
 ],
 "metadata": {
  "kernelspec": {
   "display_name": "Python 3 (ipykernel)",
   "language": "python",
   "name": "python3"
  },
  "language_info": {
   "codemirror_mode": {
    "name": "ipython",
    "version": 3
   },
   "file_extension": ".py",
   "mimetype": "text/x-python",
   "name": "python",
   "nbconvert_exporter": "python",
   "pygments_lexer": "ipython3",
   "version": "3.9.12"
  }
 },
 "nbformat": 4,
 "nbformat_minor": 4
}
