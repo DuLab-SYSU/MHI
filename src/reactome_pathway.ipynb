{
 "cells": [
  {
   "cell_type": "code",
   "execution_count": 4,
   "metadata": {},
   "outputs": [],
   "source": [
    "import requests\n",
    "import time\n",
    "import pandas as pd\n",
    "import re"
   ]
  },
  {
   "cell_type": "code",
   "execution_count": 3,
   "metadata": {},
   "outputs": [],
   "source": [
    "### Extraction of Reactome pathway names (2022-07-13)"
   ]
  },
  {
   "cell_type": "code",
   "execution_count": 23,
   "metadata": {},
   "outputs": [],
   "source": [
    "standard_name = []\n",
    "brief_description = []\n",
    "gene = []\n",
    "with open(r'../data/Reactome_pathway/c2.cp.reactome.v7.5.1.symbols.gmt') as f:\n",
    "    for row in f:\n",
    "        col = row.strip().split('\\t')\n",
    "        sn = col[0]\n",
    "        url = col[1]\n",
    "        r = requests.get(url, timeout = 30)\n",
    "        bd = re.search(r'(.*)(Brief description</th>\\n    <td>)(.*)(</td>)', r.text).group(3)\n",
    "        for i in col[2:]:\n",
    "            standard_name.append(sn)\n",
    "            brief_description.append(bd)\n",
    "            gene.append(i)"
   ]
  },
  {
   "cell_type": "code",
   "execution_count": 27,
   "metadata": {},
   "outputs": [],
   "source": [
    "reactome_pathway = pd.DataFrame({'Standard_name': standard_name,\n",
    "                                 'Brief_description': brief_description,\n",
    "                                 'Gene': gene})"
   ]
  },
  {
   "cell_type": "code",
   "execution_count": 30,
   "metadata": {},
   "outputs": [
    {
     "data": {
      "text/html": [
       "<div>\n",
       "<style scoped>\n",
       "    .dataframe tbody tr th:only-of-type {\n",
       "        vertical-align: middle;\n",
       "    }\n",
       "\n",
       "    .dataframe tbody tr th {\n",
       "        vertical-align: top;\n",
       "    }\n",
       "\n",
       "    .dataframe thead th {\n",
       "        text-align: right;\n",
       "    }\n",
       "</style>\n",
       "<table border=\"1\" class=\"dataframe\">\n",
       "  <thead>\n",
       "    <tr style=\"text-align: right;\">\n",
       "      <th></th>\n",
       "      <th>Standard_name</th>\n",
       "      <th>Brief_description</th>\n",
       "      <th>Gene</th>\n",
       "    </tr>\n",
       "  </thead>\n",
       "  <tbody>\n",
       "    <tr>\n",
       "      <th>0</th>\n",
       "      <td>REACTOME_INTERLEUKIN_6_SIGNALING</td>\n",
       "      <td>Interleukin-6 signaling</td>\n",
       "      <td>JAK2</td>\n",
       "    </tr>\n",
       "    <tr>\n",
       "      <th>1</th>\n",
       "      <td>REACTOME_INTERLEUKIN_6_SIGNALING</td>\n",
       "      <td>Interleukin-6 signaling</td>\n",
       "      <td>TYK2</td>\n",
       "    </tr>\n",
       "    <tr>\n",
       "      <th>2</th>\n",
       "      <td>REACTOME_INTERLEUKIN_6_SIGNALING</td>\n",
       "      <td>Interleukin-6 signaling</td>\n",
       "      <td>CBL</td>\n",
       "    </tr>\n",
       "    <tr>\n",
       "      <th>3</th>\n",
       "      <td>REACTOME_INTERLEUKIN_6_SIGNALING</td>\n",
       "      <td>Interleukin-6 signaling</td>\n",
       "      <td>STAT1</td>\n",
       "    </tr>\n",
       "    <tr>\n",
       "      <th>4</th>\n",
       "      <td>REACTOME_INTERLEUKIN_6_SIGNALING</td>\n",
       "      <td>Interleukin-6 signaling</td>\n",
       "      <td>IL6ST</td>\n",
       "    </tr>\n",
       "  </tbody>\n",
       "</table>\n",
       "</div>"
      ],
      "text/plain": [
       "                      Standard_name        Brief_description   Gene\n",
       "0  REACTOME_INTERLEUKIN_6_SIGNALING  Interleukin-6 signaling   JAK2\n",
       "1  REACTOME_INTERLEUKIN_6_SIGNALING  Interleukin-6 signaling   TYK2\n",
       "2  REACTOME_INTERLEUKIN_6_SIGNALING  Interleukin-6 signaling    CBL\n",
       "3  REACTOME_INTERLEUKIN_6_SIGNALING  Interleukin-6 signaling  STAT1\n",
       "4  REACTOME_INTERLEUKIN_6_SIGNALING  Interleukin-6 signaling  IL6ST"
      ]
     },
     "execution_count": 30,
     "metadata": {},
     "output_type": "execute_result"
    }
   ],
   "source": [
    "reactome_pathway.head()"
   ]
  },
  {
   "cell_type": "code",
   "execution_count": 33,
   "metadata": {},
   "outputs": [],
   "source": [
    "reactome_pathway.to_csv(path_or_buf='../data/Reactome_pathway/reactome_pathways_from_MsigDB.txt',\n",
    "                        index = False, \n",
    "                        sep = '\\t')"
   ]
  },
  {
   "cell_type": "code",
   "execution_count": 57,
   "metadata": {},
   "outputs": [],
   "source": [
    "### Extraction of pathway categories information (2022-12-16)"
   ]
  },
  {
   "cell_type": "code",
   "execution_count": 37,
   "metadata": {},
   "outputs": [],
   "source": [
    "reactome_pathways = pd.read_csv(r'../data/Reactome_pathway/UniProt2Reactome_All_Levels.txt',\n",
    "                                sep=\"\\t\",\n",
    "                                header=None)"
   ]
  },
  {
   "cell_type": "code",
   "execution_count": 40,
   "metadata": {},
   "outputs": [],
   "source": [
    "reactome_pathways = reactome_pathways[reactome_pathways[5] == \"Homo sapiens\"].iloc[:, [1, 3]].drop_duplicates()"
   ]
  },
  {
   "cell_type": "code",
   "execution_count": 56,
   "metadata": {},
   "outputs": [],
   "source": [
    "pathway = []\n",
    "category = []\n",
    "\n",
    "for l in reactome_pathways.index:\n",
    "    pathway.append(reactome_pathways.loc[l, 3])\n",
    "    \n",
    "    id = reactome_pathways.loc[l, 1]\n",
    "    url = \"https://reactome.org/content/detail/\" + id\n",
    "    r = requests.get(url, timeout = 30)\n",
    "    \n",
    "    if bool(re.search(r'title=\"goto Reactome Pathway Browser\"', r.text)):\n",
    "        ca = re.search(r'(.*)(title=\"goto Reactome Pathway Browser\" >)(.*)( \\(Homo sapiens\\))', r.text).group(3)\n",
    "    else:\n",
    "        ca = re.search(r'(.*)(<i class=\"sprite-resize sprite sprite-Pathway\" style=\"vertical-align: middle\"></i>\\n\\s+\\n\\s+)(.*)( \\(Homo sapiens\\))', \n",
    "                             r.text).group(3)\n",
    "        \n",
    "    category.append(ca)"
   ]
  },
  {
   "cell_type": "code",
   "execution_count": 61,
   "metadata": {},
   "outputs": [],
   "source": [
    "pathway_category = pd.DataFrame({'pathway': pathway, 'category': category})"
   ]
  },
  {
   "cell_type": "code",
   "execution_count": 63,
   "metadata": {},
   "outputs": [],
   "source": [
    "pathway_category.to_csv(path_or_buf='../data/Reactome_pathway/reactome_pathway_category.txt',\n",
    "                        index = False, sep = '\\t')"
   ]
  },
  {
   "cell_type": "code",
   "execution_count": null,
   "metadata": {},
   "outputs": [],
   "source": []
  }
 ],
 "metadata": {
  "kernelspec": {
   "display_name": "Python 3 (ipykernel)",
   "language": "python",
   "name": "python3"
  },
  "language_info": {
   "codemirror_mode": {
    "name": "ipython",
    "version": 3
   },
   "file_extension": ".py",
   "mimetype": "text/x-python",
   "name": "python",
   "nbconvert_exporter": "python",
   "pygments_lexer": "ipython3",
   "version": "3.9.12"
  }
 },
 "nbformat": 4,
 "nbformat_minor": 4
}
