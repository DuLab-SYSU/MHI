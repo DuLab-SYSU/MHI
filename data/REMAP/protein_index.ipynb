{
 "cells": [
  {
   "cell_type": "code",
   "execution_count": 7,
   "id": "818293a0-ea4c-46e5-bf3d-4f4305997d29",
   "metadata": {},
   "outputs": [],
   "source": [
    "import re\n",
    "import glob, os"
   ]
  },
  {
   "cell_type": "code",
   "execution_count": 2,
   "id": "e20e5c81-a778-4aee-b390-608a683aaead",
   "metadata": {},
   "outputs": [],
   "source": [
    "protein_index = {}\n",
    "with open(r'protein_index.txt') as f:\n",
    "    for row in f:\n",
    "        col = row.strip().split('\\t')\n",
    "        protein_index[col[1]] = col[0]"
   ]
  },
  {
   "cell_type": "code",
   "execution_count": 9,
   "id": "a2e5bfa0-7da7-4baf-a21a-b52c6225b1d3",
   "metadata": {},
   "outputs": [],
   "source": [
    "for file in glob.glob(\"*.fasta\"):\n",
    "    with open(file) as f:\n",
    "        for row in f:\n",
    "            if row.startswith('>'):\n",
    "                symbol = re.search(r'(.*)(GN=\\w+)(\\D*)(.*)', row.strip()).group(2)\n",
    "                symbol = symbol.split('=')[1]\n",
    "                if symbol in protein_index:\n",
    "                    header = \">\" + str(protein_index[symbol]) + \"|\" + symbol\n",
    "                else:\n",
    "                    header = \">no|\" + symbol\n",
    "                #print(header)\n",
    "                open('uniprot_human_proteins.fas', 'a').write(\"%s\\n\" % (header))\n",
    "            else:\n",
    "                open('uniprot_human_proteins.fas', 'a').write(\"%s\\n\" % (row.strip()))"
   ]
  },
  {
   "cell_type": "code",
   "execution_count": null,
   "id": "c803db20-1a82-48bf-b639-a28a84fdcba3",
   "metadata": {},
   "outputs": [],
   "source": []
  }
 ],
 "metadata": {
  "kernelspec": {
   "display_name": "Python 3 (ipykernel)",
   "language": "python",
   "name": "python3"
  },
  "language_info": {
   "codemirror_mode": {
    "name": "ipython",
    "version": 3
   },
   "file_extension": ".py",
   "mimetype": "text/x-python",
   "name": "python",
   "nbconvert_exporter": "python",
   "pygments_lexer": "ipython3",
   "version": "3.9.12"
  }
 },
 "nbformat": 4,
 "nbformat_minor": 5
}
