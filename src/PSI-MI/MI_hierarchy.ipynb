{
 "cells": [
  {
   "cell_type": "code",
   "execution_count": 1,
   "metadata": {},
   "outputs": [],
   "source": [
    "import re\n",
    "import pandas as pd\n",
    "import networkx as nx"
   ]
  },
  {
   "cell_type": "markdown",
   "metadata": {},
   "source": [
    "# the relationship of child and parent PSI MI (2021-11-12)\n",
    "### The child MI and its recent parent MI"
   ]
  },
  {
   "cell_type": "code",
   "execution_count": 2,
   "metadata": {},
   "outputs": [],
   "source": [
    "mi_relation = {}\n",
    "child = []\n",
    "with open(r'mi.owl') as f:\n",
    "    for row in f:\n",
    "        if row.startswith('id: MI'):\n",
    "            col = row.strip().split(\" \")\n",
    "            child.append(col[1])\n",
    "        elif row.startswith('is_a: MI'):\n",
    "            term = re.search('MI:[0-9]+', row.strip()).group()\n",
    "            mi_relation.setdefault(child[-1], []).append(term)"
   ]
  },
  {
   "cell_type": "code",
   "execution_count": 3,
   "metadata": {},
   "outputs": [
    {
     "data": {
      "text/plain": [
       "['MI:0013', 'MI:0091']"
      ]
     },
     "execution_count": 3,
     "metadata": {},
     "output_type": "execute_result"
    }
   ],
   "source": [
    "mi_relation['MI:0071']"
   ]
  },
  {
   "cell_type": "markdown",
   "metadata": {},
   "source": [
    "### The list of MI should not be included"
   ]
  },
  {
   "cell_type": "code",
   "execution_count": 4,
   "metadata": {},
   "outputs": [],
   "source": [
    "mi_remove = ['MI:0000', 'MI:0001', 'MI:0045'] # molecular interaction, interaction detection method, and experimental interaction detection \n",
    "mi_remove2 = ['MI:0362', 'MI:0063', 'MI:0686'\n",
    "             'MI:0300', 'MI:0590', 'MI:0500', 'MI:2233', 'MI:1149', 'MI:0353',\n",
    "             'MI:1045', 'MI:0954', 'MI:0444', 'MI:0346', 'MI:0495', 'MI:0003',\n",
    "             'MI:0333', 'MI:0116', 'MI:1064', 'MI:0190', 'MI:0313', 'MI:0640',\n",
    "             'MI:0647', 'MI:0002'] # inference, interaction prediction, and unspecified method, etc\n",
    "mi_remove3 = ['MI:0000', 'MI:0001', 'MI:0045', \n",
    "             'MI:0401', 'MI:0013', 'MI:0254', 'MI:0428', 'MI:1088', 'MI:0255', 'MI:0090']"
   ]
  },
  {
   "cell_type": "code",
   "execution_count": 5,
   "metadata": {},
   "outputs": [
    {
     "data": {
      "text/html": [
       "<div>\n",
       "<style scoped>\n",
       "    .dataframe tbody tr th:only-of-type {\n",
       "        vertical-align: middle;\n",
       "    }\n",
       "\n",
       "    .dataframe tbody tr th {\n",
       "        vertical-align: top;\n",
       "    }\n",
       "\n",
       "    .dataframe thead th {\n",
       "        text-align: right;\n",
       "    }\n",
       "</style>\n",
       "<table border=\"1\" class=\"dataframe\">\n",
       "  <thead>\n",
       "    <tr style=\"text-align: right;\">\n",
       "      <th></th>\n",
       "      <th>child</th>\n",
       "      <th>grandparent</th>\n",
       "    </tr>\n",
       "  </thead>\n",
       "  <tbody>\n",
       "    <tr>\n",
       "      <th>0</th>\n",
       "      <td>MI:0004</td>\n",
       "      <td>MI:0091</td>\n",
       "    </tr>\n",
       "    <tr>\n",
       "      <th>1</th>\n",
       "      <td>MI:0004</td>\n",
       "      <td>MI:0400</td>\n",
       "    </tr>\n",
       "    <tr>\n",
       "      <th>2</th>\n",
       "      <td>MI:0005</td>\n",
       "      <td>MI:0810</td>\n",
       "    </tr>\n",
       "    <tr>\n",
       "      <th>3</th>\n",
       "      <td>MI:0006</td>\n",
       "      <td>MI:0019</td>\n",
       "    </tr>\n",
       "    <tr>\n",
       "      <th>4</th>\n",
       "      <td>MI:0007</td>\n",
       "      <td>MI:0019</td>\n",
       "    </tr>\n",
       "  </tbody>\n",
       "</table>\n",
       "</div>"
      ],
      "text/plain": [
       "     child grandparent\n",
       "0  MI:0004     MI:0091\n",
       "1  MI:0004     MI:0400\n",
       "2  MI:0005     MI:0810\n",
       "3  MI:0006     MI:0019\n",
       "4  MI:0007     MI:0019"
      ]
     },
     "execution_count": 5,
     "metadata": {},
     "output_type": "execute_result"
    }
   ],
   "source": [
    "children = []\n",
    "grandparents = []\n",
    "#out_f = open(\"go_grouping.txt\", \"a\")\n",
    "for ch in mi_relation.keys():\n",
    "    for pa in mi_relation[ch]:\n",
    "        #out_f.write(ch + \"\\t\" + pa + \"\\n\")\n",
    "        if (ch in mi_remove) or (pa in mi_remove):\n",
    "            pass\n",
    "        else:\n",
    "            children.append(ch)\n",
    "            grandparents.append(pa)\n",
    "            \n",
    "mi_group = pd.DataFrame({'child': children, 'grandparent': grandparents})\n",
    "mi_group.head()"
   ]
  },
  {
   "cell_type": "code",
   "execution_count": 6,
   "metadata": {},
   "outputs": [
    {
     "data": {
      "text/plain": [
       "(1592, 2)"
      ]
     },
     "execution_count": 6,
     "metadata": {},
     "output_type": "execute_result"
    }
   ],
   "source": [
    "mi_group.shape"
   ]
  },
  {
   "cell_type": "code",
   "execution_count": 7,
   "metadata": {},
   "outputs": [
    {
     "data": {
      "text/html": [
       "<div>\n",
       "<style scoped>\n",
       "    .dataframe tbody tr th:only-of-type {\n",
       "        vertical-align: middle;\n",
       "    }\n",
       "\n",
       "    .dataframe tbody tr th {\n",
       "        vertical-align: top;\n",
       "    }\n",
       "\n",
       "    .dataframe thead th {\n",
       "        text-align: right;\n",
       "    }\n",
       "</style>\n",
       "<table border=\"1\" class=\"dataframe\">\n",
       "  <thead>\n",
       "    <tr style=\"text-align: right;\">\n",
       "      <th></th>\n",
       "      <th>child</th>\n",
       "      <th>parent</th>\n",
       "    </tr>\n",
       "  </thead>\n",
       "  <tbody>\n",
       "    <tr>\n",
       "      <th>0</th>\n",
       "      <td>MI:0004</td>\n",
       "      <td>MI:0091</td>\n",
       "    </tr>\n",
       "    <tr>\n",
       "      <th>1</th>\n",
       "      <td>MI:0004</td>\n",
       "      <td>MI:0400</td>\n",
       "    </tr>\n",
       "    <tr>\n",
       "      <th>2</th>\n",
       "      <td>MI:0005</td>\n",
       "      <td>MI:0810</td>\n",
       "    </tr>\n",
       "    <tr>\n",
       "      <th>3</th>\n",
       "      <td>MI:0006</td>\n",
       "      <td>MI:0019</td>\n",
       "    </tr>\n",
       "    <tr>\n",
       "      <th>4</th>\n",
       "      <td>MI:0007</td>\n",
       "      <td>MI:0019</td>\n",
       "    </tr>\n",
       "  </tbody>\n",
       "</table>\n",
       "</div>"
      ],
      "text/plain": [
       "     child   parent\n",
       "0  MI:0004  MI:0091\n",
       "1  MI:0004  MI:0400\n",
       "2  MI:0005  MI:0810\n",
       "3  MI:0006  MI:0019\n",
       "4  MI:0007  MI:0019"
      ]
     },
     "execution_count": 7,
     "metadata": {},
     "output_type": "execute_result"
    }
   ],
   "source": [
    "children = []\n",
    "parents = []\n",
    "for ch in mi_relation.keys():\n",
    "    for pa in mi_relation[ch]:\n",
    "        if (ch in mi_remove3) or (pa in mi_remove3):\n",
    "            pass\n",
    "        else:\n",
    "            children.append(ch)\n",
    "            parents.append(pa)\n",
    "            \n",
    "mi_group2 = pd.DataFrame({'child': children, 'parent': parents})\n",
    "mi_group2.head()"
   ]
  },
  {
   "cell_type": "code",
   "execution_count": 8,
   "metadata": {},
   "outputs": [
    {
     "data": {
      "text/plain": [
       "(1524, 2)"
      ]
     },
     "execution_count": 8,
     "metadata": {},
     "output_type": "execute_result"
    }
   ],
   "source": [
    "mi_group2.shape"
   ]
  },
  {
   "cell_type": "markdown",
   "metadata": {},
   "source": [
    "### The function: find all the tip nodes of a given source (2021-11-13)"
   ]
  },
  {
   "cell_type": "code",
   "execution_count": 9,
   "metadata": {},
   "outputs": [],
   "source": [
    "def find_ancestor(G, child):\n",
    "    ancestors = []\n",
    "    if child in G.nodes():\n",
    "        parents = nx.predecessor(G, child, cutoff = 1)\n",
    "        p = list(parents.keys())\n",
    "        if len(p) == 1:\n",
    "            #ancestor = p[0]\n",
    "            if p[0] in mi_remove2:\n",
    "                pass\n",
    "            else:\n",
    "                ancestors.append(p[0])\n",
    "        else:\n",
    "            for node in p[1:]:\n",
    "                ancestors += find_ancestor(G, node)\n",
    "        return list(set(ancestors))\n",
    "    else:\n",
    "        return []"
   ]
  },
  {
   "cell_type": "markdown",
   "metadata": {},
   "source": [
    "### Find all the tip and second last tip nodes of a given source (2021-11-14)"
   ]
  },
  {
   "cell_type": "code",
   "execution_count": 10,
   "metadata": {},
   "outputs": [],
   "source": [
    "G = nx.from_pandas_edgelist(mi_group, source='child', target='grandparent', \n",
    "                            edge_attr=None, create_using=nx.DiGraph()) # create_using: 创建的图的类型\n",
    "G2 = nx.from_pandas_edgelist(mi_group2, source='child', target='parent', \n",
    "                            edge_attr=None, create_using=nx.DiGraph())"
   ]
  },
  {
   "cell_type": "code",
   "execution_count": 11,
   "metadata": {},
   "outputs": [
    {
     "data": {
      "text/plain": [
       "['MI:0091', 'MI:0400']"
      ]
     },
     "execution_count": 11,
     "metadata": {},
     "output_type": "execute_result"
    }
   ],
   "source": [
    "find_ancestor(G2, \"MI:0004\")"
   ]
  },
  {
   "cell_type": "code",
   "execution_count": 12,
   "metadata": {},
   "outputs": [
    {
     "data": {
      "text/plain": [
       "[]"
      ]
     },
     "execution_count": 12,
     "metadata": {},
     "output_type": "execute_result"
    }
   ],
   "source": [
    "find_ancestor(G, \"MI:0001\")"
   ]
  },
  {
   "cell_type": "code",
   "execution_count": 13,
   "metadata": {},
   "outputs": [
    {
     "name": "stdout",
     "output_type": "stream",
     "text": [
      "/home/tang/Desktop/Poxviridae-human/data/PSI-MI\n"
     ]
    }
   ],
   "source": [
    "import os\n",
    "print(os.getcwd())"
   ]
  },
  {
   "cell_type": "code",
   "execution_count": 14,
   "metadata": {},
   "outputs": [
    {
     "data": {
      "text/plain": [
       "'/home/tang/Desktop/Poxviridae-human/data/PSI-MI'"
      ]
     },
     "execution_count": 14,
     "metadata": {},
     "output_type": "execute_result"
    }
   ],
   "source": [
    "os.getcwd()"
   ]
  },
  {
   "cell_type": "code",
   "execution_count": null,
   "metadata": {},
   "outputs": [],
   "source": []
  }
 ],
 "metadata": {
  "kernelspec": {
   "display_name": "Python 3 (ipykernel)",
   "language": "python",
   "name": "python3"
  },
  "language_info": {
   "codemirror_mode": {
    "name": "ipython",
    "version": 3
   },
   "file_extension": ".py",
   "mimetype": "text/x-python",
   "name": "python",
   "nbconvert_exporter": "python",
   "pygments_lexer": "ipython3",
   "version": "3.9.12"
  }
 },
 "nbformat": 4,
 "nbformat_minor": 4
}
