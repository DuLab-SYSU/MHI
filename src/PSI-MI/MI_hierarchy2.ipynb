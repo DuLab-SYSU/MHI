{
 "cells": [
  {
   "cell_type": "code",
   "execution_count": 1,
   "metadata": {},
   "outputs": [],
   "source": [
    "import re\n",
    "import pandas as pd\n",
    "import networkx as nx\n",
    "import os"
   ]
  },
  {
   "cell_type": "markdown",
   "metadata": {},
   "source": [
    "# The relationship of child and parent PSI MI (2022-05-18)\n",
    "### The child MI and its recent parent MI"
   ]
  },
  {
   "cell_type": "code",
   "execution_count": null,
   "metadata": {},
   "outputs": [],
   "source": [
    "mi_relation = {}\n",
    "child = []\n",
    "with open(r'../PSI-MI/mi.owl') as f:\n",
    "    for row in f:\n",
    "        if row.startswith('id: MI'):\n",
    "            col = row.strip().split(\" \")\n",
    "            child.append(col[1])\n",
    "        elif row.startswith('is_a: MI'):\n",
    "            term = re.search('MI:[0-9]+', row.strip()).group()\n",
    "            mi_relation.setdefault(child[-1], []).append(term)\n",
    "            \n",
    "child = []\n",
    "parent = []\n",
    "for ch in mi_relation.keys():\n",
    "    for pa in mi_relation[ch]:\n",
    "        child.append(ch)\n",
    "        parent.append(pa)\n",
    "        \n",
    "mi_relation = pd.DataFrame({'Child': child,\n",
    "                            'Parent': parent})"
   ]
  },
  {
   "cell_type": "markdown",
   "metadata": {},
   "source": [
    "# The grandparent and parent of a child MI\n",
    "### Find all the tip nodes of a given source"
   ]
  },
  {
   "cell_type": "code",
   "execution_count": null,
   "metadata": {},
   "outputs": [],
   "source": [
    "def find_ancestor(G, child):\n",
    "    ancestors = []\n",
    "    parents = nx.predecessor(G, child, cutoff = 1)\n",
    "    p = list(parents.keys())\n",
    "    if len(p) == 1:\n",
    "        ancestor = p[0]\n",
    "        ancestors.append(p[0])\n",
    "    else:\n",
    "        for node in p[1:]:\n",
    "            ancestors += find_ancestor(G, node)\n",
    "    return list(set(ancestors))\n",
    "\n",
    "G = nx.from_pandas_edgelist(mi_relation, source='Child', target='Parent', \n",
    "                            edge_attr=None, create_using=nx.DiGraph())"
   ]
  },
  {
   "cell_type": "code",
   "execution_count": null,
   "metadata": {},
   "outputs": [],
   "source": [
    "### 'molecular interaction', 'interaction detection method', and 'experimental interaction detection' were not included\n",
    "G.remove_nodes_from(['MI:0000','MI:0001','MI:0045'])"
   ]
  },
  {
   "cell_type": "code",
   "execution_count": null,
   "metadata": {},
   "outputs": [],
   "source": [
    "### The MI retained\n",
    "mi_retain = []\n",
    "for mi in list(G.nodes()):\n",
    "    ancestors = find_ancestor(G, mi)\n",
    "    for a in ancestors:\n",
    "        if a in ['MI:0401', 'MI:0013', 'MI:0254', 'MI:0428', 'MI:1088', 'MI:0255', 'MI:0090']:\n",
    "            mi_retain.append(mi)\n",
    "\n",
    "mi_retain = set(mi_retain)\n",
    "mi_remove = [i for i in list(G.nodes()) if i not in mi_retain]\n",
    "G.remove_nodes_from(mi_remove)\n",
    "\n",
    "G2 = G.copy()\n",
    "G2.remove_nodes_from(['MI:0401', 'MI:0013', 'MI:0254', \n",
    "                     'MI:0428', 'MI:1088', 'MI:0255', 'MI:0090'])"
   ]
  },
  {
   "cell_type": "markdown",
   "metadata": {},
   "source": [
    "## The functions"
   ]
  },
  {
   "cell_type": "code",
   "execution_count": null,
   "metadata": {},
   "outputs": [],
   "source": [
    "def find_grandparent(child):\n",
    "    if child in list(G.nodes()):\n",
    "        return find_ancestor(G, child)\n",
    "    else:\n",
    "        return \"-\"\n",
    "\n",
    "def find_parent(child):\n",
    "    if child in list(G2.nodes()):\n",
    "        return find_ancestor(G2, child)\n",
    "    else:\n",
    "        return \"-\"\n",
    "\n",
    "def miLevel(mi, a):\n",
    "    return nx.shortest_path_length(G, mi, a, weight = None) + 1"
   ]
  }
 ],
 "metadata": {
  "kernelspec": {
   "display_name": "Python 3",
   "language": "python",
   "name": "python3"
  },
  "language_info": {
   "codemirror_mode": {
    "name": "ipython",
    "version": 3
   },
   "file_extension": ".py",
   "mimetype": "text/x-python",
   "name": "python",
   "nbconvert_exporter": "python",
   "pygments_lexer": "ipython3",
   "version": "3.8.3"
  }
 },
 "nbformat": 4,
 "nbformat_minor": 4
}
