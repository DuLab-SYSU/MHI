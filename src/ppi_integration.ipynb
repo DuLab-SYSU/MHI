{
 "cells": [
  {
   "cell_type": "code",
   "execution_count": 1,
   "metadata": {},
   "outputs": [],
   "source": [
    "import sys\n",
    "sys.path.append(\"PSI-MI/\")\n",
    "from miHierarchy import *\n",
    "\n",
    "import gzip\n",
    "import numpy as np\n",
    "import pandas as pd\n",
    "import re\n",
    "import matplotlib.pyplot as plt\n",
    "import math\n",
    "from collections import Counter"
   ]
  },
  {
   "cell_type": "markdown",
   "metadata": {},
   "source": [
    "## Function of gene ID conversion (2022-05-26)"
   ]
  },
  {
   "cell_type": "code",
   "execution_count": 2,
   "metadata": {},
   "outputs": [],
   "source": [
    "geneName = pd.read_csv(r'../data/Biomart_geneid.txt',\n",
    "                       sep=\"\\t\",\n",
    "                       header=None)\n",
    "geneName.columns = ['ID', 'Symbol']\n",
    "id_count = dict(Counter(geneName['ID'].tolist()))\n",
    "id_retain = [k for k,v in id_count.items() if v == 1]\n",
    "\n",
    "geneName2 = geneName[geneName['ID'].isin(id_retain)]\n",
    "id_name = dict(zip(geneName2['ID'], geneName2['Symbol']))\n",
    "\n",
    "def id2name(id):\n",
    "    if id in id_name.keys():\n",
    "        return id_name[id]\n",
    "    else:\n",
    "        return 0"
   ]
  },
  {
   "cell_type": "code",
   "execution_count": 3,
   "metadata": {},
   "outputs": [
    {
     "data": {
      "text/plain": [
       "'MED6'"
      ]
     },
     "execution_count": 3,
     "metadata": {},
     "output_type": "execute_result"
    }
   ],
   "source": [
    "id2name(\"10001\")"
   ]
  },
  {
   "cell_type": "markdown",
   "metadata": {},
   "source": [
    "# Human PPI data integration from different databases"
   ]
  },
  {
   "cell_type": "markdown",
   "metadata": {},
   "source": [
    "## Raw data extraction\n",
    "### BioGRID (2022-05-26)"
   ]
  },
  {
   "cell_type": "code",
   "execution_count": 4,
   "metadata": {},
   "outputs": [],
   "source": [
    "gene_A = []\n",
    "gene_B = []\n",
    "method = []\n",
    "pubmed = []\n",
    "interaction_type = []\n",
    "with gzip.open(r'../data/PPIs_from_databases/BIOGRID-ORGANISM-Homo_sapiens-4.4.203.mitab.txt.gz', 'rt') as f:\n",
    "    for row in f:\n",
    "        if row.startswith(\"#ID\"):\n",
    "            pass\n",
    "        else:\n",
    "            col = row.split(\"\\t\")\n",
    "            if col[9] == 'taxid:9606' and col[10] == 'taxid:9606':\n",
    "                gene_A.append(id2name(col[0].replace('entrez gene/locuslink:', '')))\n",
    "                gene_B.append(id2name(col[1].replace('entrez gene/locuslink:', '')))\n",
    "                method.append(col[6].replace('psi-mi:\"', '').replace('\"', ''))\n",
    "                pubmed.append(col[8])\n",
    "                interaction_type.append(col[11].replace('psi-mi:\"', '').replace('\"', ''))\n",
    "                \n",
    "biogrid = pd.DataFrame({'gene_A': gene_A, 'gene_B': gene_B,\n",
    "                         'interaction_detection_method': method,\n",
    "                         'pubmed_id': pubmed,\n",
    "                         'interaction_type': interaction_type,\n",
    "                         'database': ['BioGRID'] * len(gene_A)})"
   ]
  },
  {
   "cell_type": "code",
   "execution_count": 5,
   "metadata": {},
   "outputs": [
    {
     "data": {
      "text/html": [
       "<div>\n",
       "<style scoped>\n",
       "    .dataframe tbody tr th:only-of-type {\n",
       "        vertical-align: middle;\n",
       "    }\n",
       "\n",
       "    .dataframe tbody tr th {\n",
       "        vertical-align: top;\n",
       "    }\n",
       "\n",
       "    .dataframe thead th {\n",
       "        text-align: right;\n",
       "    }\n",
       "</style>\n",
       "<table border=\"1\" class=\"dataframe\">\n",
       "  <thead>\n",
       "    <tr style=\"text-align: right;\">\n",
       "      <th></th>\n",
       "      <th>gene_A</th>\n",
       "      <th>gene_B</th>\n",
       "      <th>interaction_detection_method</th>\n",
       "      <th>pubmed_id</th>\n",
       "      <th>interaction_type</th>\n",
       "      <th>database</th>\n",
       "    </tr>\n",
       "  </thead>\n",
       "  <tbody>\n",
       "    <tr>\n",
       "      <th>0</th>\n",
       "      <td>MAP2K4</td>\n",
       "      <td>FLNC</td>\n",
       "      <td>MI:0018(two hybrid)</td>\n",
       "      <td>pubmed:9006895</td>\n",
       "      <td>MI:0407(direct interaction)</td>\n",
       "      <td>BioGRID</td>\n",
       "    </tr>\n",
       "    <tr>\n",
       "      <th>1</th>\n",
       "      <td>MYPN</td>\n",
       "      <td>ACTN2</td>\n",
       "      <td>MI:0018(two hybrid)</td>\n",
       "      <td>pubmed:11309420</td>\n",
       "      <td>MI:0407(direct interaction)</td>\n",
       "      <td>BioGRID</td>\n",
       "    </tr>\n",
       "    <tr>\n",
       "      <th>2</th>\n",
       "      <td>ACVR1</td>\n",
       "      <td>FNTA</td>\n",
       "      <td>MI:0018(two hybrid)</td>\n",
       "      <td>pubmed:8599089</td>\n",
       "      <td>MI:0407(direct interaction)</td>\n",
       "      <td>BioGRID</td>\n",
       "    </tr>\n",
       "    <tr>\n",
       "      <th>3</th>\n",
       "      <td>GATA2</td>\n",
       "      <td>PML</td>\n",
       "      <td>MI:0018(two hybrid)</td>\n",
       "      <td>pubmed:10938104</td>\n",
       "      <td>MI:0407(direct interaction)</td>\n",
       "      <td>BioGRID</td>\n",
       "    </tr>\n",
       "    <tr>\n",
       "      <th>4</th>\n",
       "      <td>RPA2</td>\n",
       "      <td>STAT3</td>\n",
       "      <td>MI:0018(two hybrid)</td>\n",
       "      <td>pubmed:10875894</td>\n",
       "      <td>MI:0407(direct interaction)</td>\n",
       "      <td>BioGRID</td>\n",
       "    </tr>\n",
       "  </tbody>\n",
       "</table>\n",
       "</div>"
      ],
      "text/plain": [
       "   gene_A gene_B interaction_detection_method        pubmed_id  \\\n",
       "0  MAP2K4   FLNC          MI:0018(two hybrid)   pubmed:9006895   \n",
       "1    MYPN  ACTN2          MI:0018(two hybrid)  pubmed:11309420   \n",
       "2   ACVR1   FNTA          MI:0018(two hybrid)   pubmed:8599089   \n",
       "3   GATA2    PML          MI:0018(two hybrid)  pubmed:10938104   \n",
       "4    RPA2  STAT3          MI:0018(two hybrid)  pubmed:10875894   \n",
       "\n",
       "              interaction_type database  \n",
       "0  MI:0407(direct interaction)  BioGRID  \n",
       "1  MI:0407(direct interaction)  BioGRID  \n",
       "2  MI:0407(direct interaction)  BioGRID  \n",
       "3  MI:0407(direct interaction)  BioGRID  \n",
       "4  MI:0407(direct interaction)  BioGRID  "
      ]
     },
     "execution_count": 5,
     "metadata": {},
     "output_type": "execute_result"
    }
   ],
   "source": [
    "biogrid.head()"
   ]
  },
  {
   "cell_type": "code",
   "execution_count": 6,
   "metadata": {},
   "outputs": [
    {
     "data": {
      "text/plain": [
       "(900096, 6)"
      ]
     },
     "execution_count": 6,
     "metadata": {},
     "output_type": "execute_result"
    }
   ],
   "source": [
    "biogrid.shape"
   ]
  },
  {
   "cell_type": "markdown",
   "metadata": {},
   "source": [
    "### IntAct"
   ]
  },
  {
   "cell_type": "code",
   "execution_count": 9,
   "metadata": {},
   "outputs": [],
   "source": [
    "gene_A = []\n",
    "gene_B = []\n",
    "method = []\n",
    "pubmed = []\n",
    "interaction_type = []\n",
    "with gzip.open(r'../data/PPIs_from_databases/intact.txt.gz', 'rt') as f:\n",
    "    for row in f:\n",
    "        if row.startswith(\"#ID\"):\n",
    "            pass\n",
    "        else:\n",
    "            col = row.strip().split('\\t')\n",
    "            if re.search(r'pubmed:unassigned[0-9]+', col[8]):  # pubmed:unassigned\n",
    "                pass\n",
    "            else:\n",
    "                if col[9] == 'taxid:9606(human)|taxid:9606(Homo sapiens)' and col[10] == 'taxid:9606(human)|taxid:9606(Homo sapiens)':\n",
    "                    gene_A.append(id2name(re.split('[:-]', col[0])[1]))\n",
    "                    gene_B.append(id2name(re.split('[:-]', col[1])[1]))\n",
    "                    method.append(col[6].replace('psi-mi:\"', '').replace('\"', ''))\n",
    "                    pubmed.append(re.search(r'(.*)(pubmed:[0-9]+)(\\D*)(.*)', col[8]).group(2))\n",
    "                    interaction_type.append(col[11].replace('psi-mi:\"', '').replace('\"', ''))\n",
    "                \n",
    "intact = pd.DataFrame({'gene_A': gene_A, 'gene_B': gene_B,\n",
    "                         'interaction_detection_method': method,\n",
    "                         'pubmed_id': pubmed,\n",
    "                         'interaction_type': interaction_type,\n",
    "                         'database': ['IntAct'] * len(gene_A)})"
   ]
  },
  {
   "cell_type": "code",
   "execution_count": 10,
   "metadata": {},
   "outputs": [
    {
     "data": {
      "text/html": [
       "<div>\n",
       "<style scoped>\n",
       "    .dataframe tbody tr th:only-of-type {\n",
       "        vertical-align: middle;\n",
       "    }\n",
       "\n",
       "    .dataframe tbody tr th {\n",
       "        vertical-align: top;\n",
       "    }\n",
       "\n",
       "    .dataframe thead th {\n",
       "        text-align: right;\n",
       "    }\n",
       "</style>\n",
       "<table border=\"1\" class=\"dataframe\">\n",
       "  <thead>\n",
       "    <tr style=\"text-align: right;\">\n",
       "      <th></th>\n",
       "      <th>gene_A</th>\n",
       "      <th>gene_B</th>\n",
       "      <th>interaction_detection_method</th>\n",
       "      <th>pubmed_id</th>\n",
       "      <th>interaction_type</th>\n",
       "      <th>database</th>\n",
       "    </tr>\n",
       "  </thead>\n",
       "  <tbody>\n",
       "    <tr>\n",
       "      <th>0</th>\n",
       "      <td>AMPH</td>\n",
       "      <td>SYNJ1</td>\n",
       "      <td>MI:0084(phage display)</td>\n",
       "      <td>pubmed:10542231</td>\n",
       "      <td>MI:0407(direct interaction)</td>\n",
       "      <td>IntAct</td>\n",
       "    </tr>\n",
       "    <tr>\n",
       "      <th>1</th>\n",
       "      <td>AMPH</td>\n",
       "      <td>SYNJ1</td>\n",
       "      <td>MI:0081(peptide array)</td>\n",
       "      <td>pubmed:10542231</td>\n",
       "      <td>MI:0407(direct interaction)</td>\n",
       "      <td>IntAct</td>\n",
       "    </tr>\n",
       "    <tr>\n",
       "      <th>2</th>\n",
       "      <td>AMPH</td>\n",
       "      <td>SYNJ1</td>\n",
       "      <td>MI:0081(peptide array)</td>\n",
       "      <td>pubmed:10542231</td>\n",
       "      <td>MI:0407(direct interaction)</td>\n",
       "      <td>IntAct</td>\n",
       "    </tr>\n",
       "    <tr>\n",
       "      <th>3</th>\n",
       "      <td>AMPH</td>\n",
       "      <td>SYNJ1</td>\n",
       "      <td>MI:0081(peptide array)</td>\n",
       "      <td>pubmed:10542231</td>\n",
       "      <td>MI:0407(direct interaction)</td>\n",
       "      <td>IntAct</td>\n",
       "    </tr>\n",
       "    <tr>\n",
       "      <th>4</th>\n",
       "      <td>SH3GL1</td>\n",
       "      <td>SYNJ1</td>\n",
       "      <td>MI:0081(peptide array)</td>\n",
       "      <td>pubmed:10542231</td>\n",
       "      <td>MI:0407(direct interaction)</td>\n",
       "      <td>IntAct</td>\n",
       "    </tr>\n",
       "  </tbody>\n",
       "</table>\n",
       "</div>"
      ],
      "text/plain": [
       "   gene_A gene_B interaction_detection_method        pubmed_id  \\\n",
       "0    AMPH  SYNJ1       MI:0084(phage display)  pubmed:10542231   \n",
       "1    AMPH  SYNJ1       MI:0081(peptide array)  pubmed:10542231   \n",
       "2    AMPH  SYNJ1       MI:0081(peptide array)  pubmed:10542231   \n",
       "3    AMPH  SYNJ1       MI:0081(peptide array)  pubmed:10542231   \n",
       "4  SH3GL1  SYNJ1       MI:0081(peptide array)  pubmed:10542231   \n",
       "\n",
       "              interaction_type database  \n",
       "0  MI:0407(direct interaction)   IntAct  \n",
       "1  MI:0407(direct interaction)   IntAct  \n",
       "2  MI:0407(direct interaction)   IntAct  \n",
       "3  MI:0407(direct interaction)   IntAct  \n",
       "4  MI:0407(direct interaction)   IntAct  "
      ]
     },
     "execution_count": 10,
     "metadata": {},
     "output_type": "execute_result"
    }
   ],
   "source": [
    "intact.head()"
   ]
  },
  {
   "cell_type": "code",
   "execution_count": 11,
   "metadata": {},
   "outputs": [
    {
     "data": {
      "text/plain": [
       "(594012, 6)"
      ]
     },
     "execution_count": 11,
     "metadata": {},
     "output_type": "execute_result"
    }
   ],
   "source": [
    "intact.shape"
   ]
  },
  {
   "cell_type": "markdown",
   "metadata": {},
   "source": [
    "### MINT"
   ]
  },
  {
   "cell_type": "code",
   "execution_count": 13,
   "metadata": {},
   "outputs": [],
   "source": [
    "gene_A = []\n",
    "gene_B = []\n",
    "method = []\n",
    "pubmed = []\n",
    "interaction_type = []\n",
    "with gzip.open(r'../data/PPIs_from_databases/MINT_human.gz', 'rt') as f:\n",
    "    for row in f:\n",
    "        col = row.strip().split('\\t')\n",
    "        if re.search(r'pubmed:unassigned[0-9]+', col[8]):  # pubmed:unassigned\n",
    "            pass\n",
    "        else:\n",
    "            if col[9] == 'taxid:9606(human)|taxid:9606(Homo sapiens)' and col[10] == 'taxid:9606(human)|taxid:9606(Homo sapiens)':\n",
    "                gene_A.append(id2name(re.split('[:-]', col[0])[1]))\n",
    "                gene_B.append(id2name(re.split('[:-]', col[1])[1]))\n",
    "                method.append(col[6].replace('psi-mi:\"', '').replace('\"', ''))\n",
    "                pubmed.append(re.search(r'(.*)(pubmed:[0-9]+)(\\D*)(.*)', col[8]).group(2))\n",
    "                interaction_type.append(col[11].replace('psi-mi:\"', '').replace('\"', ''))\n",
    "            \n",
    "mint = pd.DataFrame({'gene_A': gene_A, 'gene_B': gene_B,\n",
    "                     'interaction_detection_method': method,\n",
    "                     'pubmed_id': pubmed,\n",
    "                     'interaction_type': interaction_type,\n",
    "                     'database': ['MINT'] * len(gene_A)})"
   ]
  },
  {
   "cell_type": "code",
   "execution_count": 14,
   "metadata": {},
   "outputs": [
    {
     "data": {
      "text/html": [
       "<div>\n",
       "<style scoped>\n",
       "    .dataframe tbody tr th:only-of-type {\n",
       "        vertical-align: middle;\n",
       "    }\n",
       "\n",
       "    .dataframe tbody tr th {\n",
       "        vertical-align: top;\n",
       "    }\n",
       "\n",
       "    .dataframe thead th {\n",
       "        text-align: right;\n",
       "    }\n",
       "</style>\n",
       "<table border=\"1\" class=\"dataframe\">\n",
       "  <thead>\n",
       "    <tr style=\"text-align: right;\">\n",
       "      <th></th>\n",
       "      <th>gene_A</th>\n",
       "      <th>gene_B</th>\n",
       "      <th>interaction_detection_method</th>\n",
       "      <th>pubmed_id</th>\n",
       "      <th>interaction_type</th>\n",
       "      <th>database</th>\n",
       "    </tr>\n",
       "  </thead>\n",
       "  <tbody>\n",
       "    <tr>\n",
       "      <th>0</th>\n",
       "      <td>TUBG1</td>\n",
       "      <td>TUBGCP5</td>\n",
       "      <td>MI:0007(anti tag coimmunoprecipitation)</td>\n",
       "      <td>pubmed:27015882</td>\n",
       "      <td>MI:0914(association)</td>\n",
       "      <td>MINT</td>\n",
       "    </tr>\n",
       "    <tr>\n",
       "      <th>1</th>\n",
       "      <td>TUBG1</td>\n",
       "      <td>TUBGCP4</td>\n",
       "      <td>MI:0007(anti tag coimmunoprecipitation)</td>\n",
       "      <td>pubmed:27015882</td>\n",
       "      <td>MI:0914(association)</td>\n",
       "      <td>MINT</td>\n",
       "    </tr>\n",
       "    <tr>\n",
       "      <th>2</th>\n",
       "      <td>TUBG1</td>\n",
       "      <td>TUBGCP3</td>\n",
       "      <td>MI:0007(anti tag coimmunoprecipitation)</td>\n",
       "      <td>pubmed:27015882</td>\n",
       "      <td>MI:0914(association)</td>\n",
       "      <td>MINT</td>\n",
       "    </tr>\n",
       "    <tr>\n",
       "      <th>3</th>\n",
       "      <td>TUBG1</td>\n",
       "      <td>TUBGCP2</td>\n",
       "      <td>MI:0007(anti tag coimmunoprecipitation)</td>\n",
       "      <td>pubmed:27015882</td>\n",
       "      <td>MI:0914(association)</td>\n",
       "      <td>MINT</td>\n",
       "    </tr>\n",
       "    <tr>\n",
       "      <th>4</th>\n",
       "      <td>TUBG2</td>\n",
       "      <td>TUBGCP5</td>\n",
       "      <td>MI:0007(anti tag coimmunoprecipitation)</td>\n",
       "      <td>pubmed:27015882</td>\n",
       "      <td>MI:0914(association)</td>\n",
       "      <td>MINT</td>\n",
       "    </tr>\n",
       "  </tbody>\n",
       "</table>\n",
       "</div>"
      ],
      "text/plain": [
       "  gene_A   gene_B             interaction_detection_method        pubmed_id  \\\n",
       "0  TUBG1  TUBGCP5  MI:0007(anti tag coimmunoprecipitation)  pubmed:27015882   \n",
       "1  TUBG1  TUBGCP4  MI:0007(anti tag coimmunoprecipitation)  pubmed:27015882   \n",
       "2  TUBG1  TUBGCP3  MI:0007(anti tag coimmunoprecipitation)  pubmed:27015882   \n",
       "3  TUBG1  TUBGCP2  MI:0007(anti tag coimmunoprecipitation)  pubmed:27015882   \n",
       "4  TUBG2  TUBGCP5  MI:0007(anti tag coimmunoprecipitation)  pubmed:27015882   \n",
       "\n",
       "       interaction_type database  \n",
       "0  MI:0914(association)     MINT  \n",
       "1  MI:0914(association)     MINT  \n",
       "2  MI:0914(association)     MINT  \n",
       "3  MI:0914(association)     MINT  \n",
       "4  MI:0914(association)     MINT  "
      ]
     },
     "execution_count": 14,
     "metadata": {},
     "output_type": "execute_result"
    }
   ],
   "source": [
    "mint.head()"
   ]
  },
  {
   "cell_type": "code",
   "execution_count": 15,
   "metadata": {},
   "outputs": [
    {
     "data": {
      "text/plain": [
       "(45952, 6)"
      ]
     },
     "execution_count": 15,
     "metadata": {},
     "output_type": "execute_result"
    }
   ],
   "source": [
    "mint.shape"
   ]
  },
  {
   "cell_type": "markdown",
   "metadata": {},
   "source": [
    "### DIP"
   ]
  },
  {
   "cell_type": "code",
   "execution_count": 16,
   "metadata": {},
   "outputs": [],
   "source": [
    "gene_A = []\n",
    "gene_B = []\n",
    "method = []\n",
    "pubmed = []\n",
    "interaction_type = []\n",
    "with gzip.open(r'../data/PPIs_from_databases/Hsapi20170205.txt.gz', 'rt') as f:\n",
    "    for row in f:\n",
    "        if row.startswith(\"ID\"):\n",
    "            pass\n",
    "        else:\n",
    "            col = row.strip().split(\"\\t\")\n",
    "            if col[9] == 'taxid:9606(Homo sapiens)' and col[10] == 'taxid:9606(Homo sapiens)':\n",
    "                a = re.split('\\\\|', col[0])[-1]\n",
    "                b = re.split('\\\\|', col[1])[-1]\n",
    "                #print(a + \"\\t\" + b)\n",
    "                if bool(re.search(\"DIP\", a)) or bool(re.search(\"DIP\", b)):\n",
    "                    pass\n",
    "                else:\n",
    "                    gene_A.append(id2name(re.split(':', a)[1]))\n",
    "                    gene_B.append(id2name(re.split(':', b)[1]))\n",
    "                    method.append(col[6]) # MI:0809,(bimolecular fluorescence complementation) [removing ',' manually]\n",
    "                    pubmed.append(re.sub(r'\\|pubmed:DIP-[0-9]+', '', col[8]))\n",
    "                    interaction_type.append(col[11])\n",
    "                        \n",
    "dip = pd.DataFrame({'gene_A': gene_A, 'gene_B': gene_B,\n",
    "                         'interaction_detection_method': method,\n",
    "                         'pubmed_id': pubmed,\n",
    "                         'interaction_type': interaction_type,\n",
    "                         'database': ['DIP'] * len(gene_A)})"
   ]
  },
  {
   "cell_type": "code",
   "execution_count": 17,
   "metadata": {},
   "outputs": [
    {
     "data": {
      "text/html": [
       "<div>\n",
       "<style scoped>\n",
       "    .dataframe tbody tr th:only-of-type {\n",
       "        vertical-align: middle;\n",
       "    }\n",
       "\n",
       "    .dataframe tbody tr th {\n",
       "        vertical-align: top;\n",
       "    }\n",
       "\n",
       "    .dataframe thead th {\n",
       "        text-align: right;\n",
       "    }\n",
       "</style>\n",
       "<table border=\"1\" class=\"dataframe\">\n",
       "  <thead>\n",
       "    <tr style=\"text-align: right;\">\n",
       "      <th></th>\n",
       "      <th>gene_A</th>\n",
       "      <th>gene_B</th>\n",
       "      <th>interaction_detection_method</th>\n",
       "      <th>pubmed_id</th>\n",
       "      <th>interaction_type</th>\n",
       "      <th>database</th>\n",
       "    </tr>\n",
       "  </thead>\n",
       "  <tbody>\n",
       "    <tr>\n",
       "      <th>0</th>\n",
       "      <td>CD4</td>\n",
       "      <td>CD4</td>\n",
       "      <td>MI:0114(x-ray crystallography)|MI:0031(protein...</td>\n",
       "      <td>pubmed:9168119S|pubmed:9168119S</td>\n",
       "      <td>MI:0407(direct interaction)|MI:0407(direct int...</td>\n",
       "      <td>DIP</td>\n",
       "    </tr>\n",
       "    <tr>\n",
       "      <th>1</th>\n",
       "      <td>KDM5A</td>\n",
       "      <td>RB1</td>\n",
       "      <td>MI:0401(biochemical)|MI:0006(anti bait coimmun...</td>\n",
       "      <td>pubmed:8414517S|pubmed:22615382S|pubmed:22615382S</td>\n",
       "      <td>MI:0218(physical interaction)|MI:0915(physical...</td>\n",
       "      <td>DIP</td>\n",
       "    </tr>\n",
       "    <tr>\n",
       "      <th>2</th>\n",
       "      <td>TBP</td>\n",
       "      <td>POU2F2</td>\n",
       "      <td>MI:0019(coimmunoprecipitation)|MI:0401(biochem...</td>\n",
       "      <td>pubmed:8202368S|pubmed:8202368S</td>\n",
       "      <td>MI:0218(physical interaction)|MI:0218(physical...</td>\n",
       "      <td>DIP</td>\n",
       "    </tr>\n",
       "    <tr>\n",
       "      <th>3</th>\n",
       "      <td>CBL</td>\n",
       "      <td>CRK</td>\n",
       "      <td>MI:0045(experimental interaction detection)</td>\n",
       "      <td>pubmed:9178909S</td>\n",
       "      <td>MI:0218(physical interaction)</td>\n",
       "      <td>DIP</td>\n",
       "    </tr>\n",
       "    <tr>\n",
       "      <th>4</th>\n",
       "      <td>PIK3R1</td>\n",
       "      <td>INSR</td>\n",
       "      <td>MI:0018(two hybrid)</td>\n",
       "      <td>pubmed:7589433S</td>\n",
       "      <td>MI:0218(physical interaction)</td>\n",
       "      <td>DIP</td>\n",
       "    </tr>\n",
       "  </tbody>\n",
       "</table>\n",
       "</div>"
      ],
      "text/plain": [
       "   gene_A  gene_B                       interaction_detection_method  \\\n",
       "0     CD4     CD4  MI:0114(x-ray crystallography)|MI:0031(protein...   \n",
       "1   KDM5A     RB1  MI:0401(biochemical)|MI:0006(anti bait coimmun...   \n",
       "2     TBP  POU2F2  MI:0019(coimmunoprecipitation)|MI:0401(biochem...   \n",
       "3     CBL     CRK        MI:0045(experimental interaction detection)   \n",
       "4  PIK3R1    INSR                                MI:0018(two hybrid)   \n",
       "\n",
       "                                           pubmed_id  \\\n",
       "0                    pubmed:9168119S|pubmed:9168119S   \n",
       "1  pubmed:8414517S|pubmed:22615382S|pubmed:22615382S   \n",
       "2                    pubmed:8202368S|pubmed:8202368S   \n",
       "3                                    pubmed:9178909S   \n",
       "4                                    pubmed:7589433S   \n",
       "\n",
       "                                    interaction_type database  \n",
       "0  MI:0407(direct interaction)|MI:0407(direct int...      DIP  \n",
       "1  MI:0218(physical interaction)|MI:0915(physical...      DIP  \n",
       "2  MI:0218(physical interaction)|MI:0218(physical...      DIP  \n",
       "3                      MI:0218(physical interaction)      DIP  \n",
       "4                      MI:0218(physical interaction)      DIP  "
      ]
     },
     "execution_count": 17,
     "metadata": {},
     "output_type": "execute_result"
    }
   ],
   "source": [
    "dip.head()"
   ]
  },
  {
   "cell_type": "code",
   "execution_count": 18,
   "metadata": {},
   "outputs": [
    {
     "data": {
      "text/plain": [
       "(5554, 6)"
      ]
     },
     "execution_count": 18,
     "metadata": {},
     "output_type": "execute_result"
    }
   ],
   "source": [
    "dip.shape"
   ]
  },
  {
   "cell_type": "code",
   "execution_count": 19,
   "metadata": {},
   "outputs": [
    {
     "data": {
      "text/html": [
       "<div>\n",
       "<style scoped>\n",
       "    .dataframe tbody tr th:only-of-type {\n",
       "        vertical-align: middle;\n",
       "    }\n",
       "\n",
       "    .dataframe tbody tr th {\n",
       "        vertical-align: top;\n",
       "    }\n",
       "\n",
       "    .dataframe thead th {\n",
       "        text-align: right;\n",
       "    }\n",
       "</style>\n",
       "<table border=\"1\" class=\"dataframe\">\n",
       "  <thead>\n",
       "    <tr style=\"text-align: right;\">\n",
       "      <th></th>\n",
       "      <th>gene_A</th>\n",
       "      <th>gene_B</th>\n",
       "      <th>interaction_detection_method</th>\n",
       "      <th>pubmed_id</th>\n",
       "      <th>interaction_type</th>\n",
       "      <th>database</th>\n",
       "    </tr>\n",
       "  </thead>\n",
       "  <tbody>\n",
       "    <tr>\n",
       "      <th>0</th>\n",
       "      <td>CD4</td>\n",
       "      <td>CD4</td>\n",
       "      <td>MI:0114(x-ray crystallography)</td>\n",
       "      <td>pubmed:9168119S</td>\n",
       "      <td>MI:0407(direct interaction)</td>\n",
       "      <td>DIP</td>\n",
       "    </tr>\n",
       "    <tr>\n",
       "      <th>0</th>\n",
       "      <td>CD4</td>\n",
       "      <td>CD4</td>\n",
       "      <td>MI:0031(protein cross-linking with a bifunctio...</td>\n",
       "      <td>pubmed:9168119S</td>\n",
       "      <td>MI:0407(direct interaction)</td>\n",
       "      <td>DIP</td>\n",
       "    </tr>\n",
       "    <tr>\n",
       "      <th>1</th>\n",
       "      <td>KDM5A</td>\n",
       "      <td>RB1</td>\n",
       "      <td>MI:0401(biochemical)</td>\n",
       "      <td>pubmed:8414517S</td>\n",
       "      <td>MI:0218(physical interaction)</td>\n",
       "      <td>DIP</td>\n",
       "    </tr>\n",
       "    <tr>\n",
       "      <th>1</th>\n",
       "      <td>KDM5A</td>\n",
       "      <td>RB1</td>\n",
       "      <td>MI:0006(anti bait coimmunoprecipitation)</td>\n",
       "      <td>pubmed:22615382S</td>\n",
       "      <td>MI:0915(physical association)</td>\n",
       "      <td>DIP</td>\n",
       "    </tr>\n",
       "    <tr>\n",
       "      <th>1</th>\n",
       "      <td>KDM5A</td>\n",
       "      <td>RB1</td>\n",
       "      <td>MI:0006(anti bait coimmunoprecipitation)</td>\n",
       "      <td>pubmed:22615382S</td>\n",
       "      <td>MI:0915(physical association)</td>\n",
       "      <td>DIP</td>\n",
       "    </tr>\n",
       "  </tbody>\n",
       "</table>\n",
       "</div>"
      ],
      "text/plain": [
       "  gene_A gene_B                       interaction_detection_method  \\\n",
       "0    CD4    CD4                     MI:0114(x-ray crystallography)   \n",
       "0    CD4    CD4  MI:0031(protein cross-linking with a bifunctio...   \n",
       "1  KDM5A    RB1                               MI:0401(biochemical)   \n",
       "1  KDM5A    RB1           MI:0006(anti bait coimmunoprecipitation)   \n",
       "1  KDM5A    RB1           MI:0006(anti bait coimmunoprecipitation)   \n",
       "\n",
       "          pubmed_id               interaction_type database  \n",
       "0   pubmed:9168119S    MI:0407(direct interaction)      DIP  \n",
       "0   pubmed:9168119S    MI:0407(direct interaction)      DIP  \n",
       "1   pubmed:8414517S  MI:0218(physical interaction)      DIP  \n",
       "1  pubmed:22615382S  MI:0915(physical association)      DIP  \n",
       "1  pubmed:22615382S  MI:0915(physical association)      DIP  "
      ]
     },
     "execution_count": 19,
     "metadata": {},
     "output_type": "execute_result"
    }
   ],
   "source": [
    "dip2 = dip[['gene_A', 'interaction_detection_method']]\n",
    "dip2 = dip2.drop('interaction_detection_method', axis=1).\\\n",
    "    join(dip2['interaction_detection_method'].str.split('|', expand = True).\\\n",
    "         stack().reset_index(level=1, drop=True).rename('interaction_detection_method'))\n",
    "\n",
    "dip3 = dip[['gene_B', 'pubmed_id']]\n",
    "dip3 = dip3.drop('pubmed_id', axis=1).\\\n",
    "    join(dip3['pubmed_id'].str.split('|', expand = True).\\\n",
    "         stack().reset_index(level=1, drop=True).rename('pubmed_id'))\n",
    "\n",
    "dip4 = dip[['interaction_type', 'database']]\n",
    "dip4 = dip4.drop('interaction_type', axis=1).\\\n",
    "    join(dip4['interaction_type'].str.split('|', expand = True).\\\n",
    "         stack().reset_index(level=1, drop=True).rename('interaction_type'))\n",
    "\n",
    "dip5 = pd.concat([dip2, dip3, dip4], axis=1)\n",
    "dip5 = dip5[['gene_A', 'gene_B', 'interaction_detection_method', 'pubmed_id',\n",
    "             'interaction_type', 'database']]\n",
    "dip5.head()"
   ]
  },
  {
   "cell_type": "code",
   "execution_count": 20,
   "metadata": {},
   "outputs": [
    {
     "data": {
      "text/plain": [
       "(12388, 6)"
      ]
     },
     "execution_count": 20,
     "metadata": {},
     "output_type": "execute_result"
    }
   ],
   "source": [
    "dip5.shape"
   ]
  },
  {
   "cell_type": "markdown",
   "metadata": {},
   "source": [
    "### MatrixDB"
   ]
  },
  {
   "cell_type": "code",
   "execution_count": 21,
   "metadata": {},
   "outputs": [],
   "source": [
    "gene_A = []\n",
    "gene_B = []\n",
    "method = []\n",
    "pubmed = []\n",
    "interaction_type = []\n",
    "with gzip.open(r'../data/PPIs_from_databases/matrixdb_FULL.tab.gz', 'rt') as f:\n",
    "    for row in f:\n",
    "        col = row.strip().split('\\t')\n",
    "        if col[9] == 'taxid:9606(Homo sapiens)' and col[10] == 'taxid:9606(Homo sapiens)':\n",
    "            gene_A.append(id2name(re.split('[:-]', col[0])[1]))\n",
    "            gene_B.append(id2name(re.split('[:-]', col[1])[1]))\n",
    "            method.append(col[6].replace('psi-mi:\"', '').replace('\"(\"', '(').replace('\")', ')'))\n",
    "            #method.append(col[6].replace('(\"', '(').replace('\")', ')'))\n",
    "            pubmed.append(re.search(r'(.*)(pubmed:[0-9]+)(\\D*)(.*)', col[8]).group(2))\n",
    "            interaction_type.append(col[11].replace('psi-mi:\"', '').replace('\"', ''))\n",
    "\n",
    "matrixdb = pd.DataFrame({'gene_A': gene_A, 'gene_B': gene_B,\n",
    "                         'interaction_detection_method': method,\n",
    "                         'pubmed_id': pubmed,\n",
    "                         'interaction_type': interaction_type,\n",
    "                         'database': ['MatrixDB'] * len(gene_A)})"
   ]
  },
  {
   "cell_type": "code",
   "execution_count": 22,
   "metadata": {},
   "outputs": [
    {
     "data": {
      "text/html": [
       "<div>\n",
       "<style scoped>\n",
       "    .dataframe tbody tr th:only-of-type {\n",
       "        vertical-align: middle;\n",
       "    }\n",
       "\n",
       "    .dataframe tbody tr th {\n",
       "        vertical-align: top;\n",
       "    }\n",
       "\n",
       "    .dataframe thead th {\n",
       "        text-align: right;\n",
       "    }\n",
       "</style>\n",
       "<table border=\"1\" class=\"dataframe\">\n",
       "  <thead>\n",
       "    <tr style=\"text-align: right;\">\n",
       "      <th></th>\n",
       "      <th>gene_A</th>\n",
       "      <th>gene_B</th>\n",
       "      <th>interaction_detection_method</th>\n",
       "      <th>pubmed_id</th>\n",
       "      <th>interaction_type</th>\n",
       "      <th>database</th>\n",
       "    </tr>\n",
       "  </thead>\n",
       "  <tbody>\n",
       "    <tr>\n",
       "      <th>0</th>\n",
       "      <td>KATNBL1</td>\n",
       "      <td>0</td>\n",
       "      <td>MI:0676(tandem affinity purification)</td>\n",
       "      <td>pubmed:26929214</td>\n",
       "      <td>MI:0914(association)</td>\n",
       "      <td>MatrixDB</td>\n",
       "    </tr>\n",
       "    <tr>\n",
       "      <th>1</th>\n",
       "      <td>KATNBL1</td>\n",
       "      <td>TUBA1A</td>\n",
       "      <td>MI:0676(tandem affinity purification)</td>\n",
       "      <td>pubmed:26929214</td>\n",
       "      <td>MI:0914(association)</td>\n",
       "      <td>MatrixDB</td>\n",
       "    </tr>\n",
       "    <tr>\n",
       "      <th>2</th>\n",
       "      <td>KATNBL1</td>\n",
       "      <td>TUBB</td>\n",
       "      <td>MI:0676(tandem affinity purification)</td>\n",
       "      <td>pubmed:26929214</td>\n",
       "      <td>MI:0914(association)</td>\n",
       "      <td>MatrixDB</td>\n",
       "    </tr>\n",
       "    <tr>\n",
       "      <th>3</th>\n",
       "      <td>KATNBL1</td>\n",
       "      <td>WDR62</td>\n",
       "      <td>MI:0676(tandem affinity purification)</td>\n",
       "      <td>pubmed:26929214</td>\n",
       "      <td>MI:0914(association)</td>\n",
       "      <td>MatrixDB</td>\n",
       "    </tr>\n",
       "    <tr>\n",
       "      <th>4</th>\n",
       "      <td>KATNBL1</td>\n",
       "      <td>TUBA4A</td>\n",
       "      <td>MI:0676(tandem affinity purification)</td>\n",
       "      <td>pubmed:26929214</td>\n",
       "      <td>MI:0914(association)</td>\n",
       "      <td>MatrixDB</td>\n",
       "    </tr>\n",
       "  </tbody>\n",
       "</table>\n",
       "</div>"
      ],
      "text/plain": [
       "    gene_A  gene_B           interaction_detection_method        pubmed_id  \\\n",
       "0  KATNBL1       0  MI:0676(tandem affinity purification)  pubmed:26929214   \n",
       "1  KATNBL1  TUBA1A  MI:0676(tandem affinity purification)  pubmed:26929214   \n",
       "2  KATNBL1    TUBB  MI:0676(tandem affinity purification)  pubmed:26929214   \n",
       "3  KATNBL1   WDR62  MI:0676(tandem affinity purification)  pubmed:26929214   \n",
       "4  KATNBL1  TUBA4A  MI:0676(tandem affinity purification)  pubmed:26929214   \n",
       "\n",
       "       interaction_type  database  \n",
       "0  MI:0914(association)  MatrixDB  \n",
       "1  MI:0914(association)  MatrixDB  \n",
       "2  MI:0914(association)  MatrixDB  \n",
       "3  MI:0914(association)  MatrixDB  \n",
       "4  MI:0914(association)  MatrixDB  "
      ]
     },
     "execution_count": 22,
     "metadata": {},
     "output_type": "execute_result"
    }
   ],
   "source": [
    "matrixdb.head()"
   ]
  },
  {
   "cell_type": "code",
   "execution_count": 23,
   "metadata": {},
   "outputs": [
    {
     "data": {
      "text/plain": [
       "(111582, 6)"
      ]
     },
     "execution_count": 23,
     "metadata": {},
     "output_type": "execute_result"
    }
   ],
   "source": [
    "matrixdb.shape"
   ]
  },
  {
   "cell_type": "markdown",
   "metadata": {},
   "source": [
    "## Intrgration"
   ]
  },
  {
   "cell_type": "code",
   "execution_count": 24,
   "metadata": {},
   "outputs": [],
   "source": [
    "integrated_ppi = pd.concat([biogrid, intact, mint, dip5, matrixdb])\n",
    "integrated_ppi2 = integrated_ppi[(integrated_ppi.gene_A != 0) & (integrated_ppi.gene_B != 0)]\n",
    "integrated_ppi2 = integrated_ppi2.drop_duplicates()\n",
    "integrated_ppi2 = integrated_ppi2[integrated_ppi2.gene_A != integrated_ppi2.gene_B]\n",
    "integrated_ppi2 = integrated_ppi2.iloc[:,[0,1,2,3,5]]"
   ]
  },
  {
   "cell_type": "code",
   "execution_count": 25,
   "metadata": {},
   "outputs": [
    {
     "data": {
      "text/html": [
       "<div>\n",
       "<style scoped>\n",
       "    .dataframe tbody tr th:only-of-type {\n",
       "        vertical-align: middle;\n",
       "    }\n",
       "\n",
       "    .dataframe tbody tr th {\n",
       "        vertical-align: top;\n",
       "    }\n",
       "\n",
       "    .dataframe thead th {\n",
       "        text-align: right;\n",
       "    }\n",
       "</style>\n",
       "<table border=\"1\" class=\"dataframe\">\n",
       "  <thead>\n",
       "    <tr style=\"text-align: right;\">\n",
       "      <th></th>\n",
       "      <th>gene_A</th>\n",
       "      <th>gene_B</th>\n",
       "      <th>interaction_detection_method</th>\n",
       "      <th>pubmed_id</th>\n",
       "      <th>database</th>\n",
       "    </tr>\n",
       "  </thead>\n",
       "  <tbody>\n",
       "    <tr>\n",
       "      <th>0</th>\n",
       "      <td>MAP2K4</td>\n",
       "      <td>FLNC</td>\n",
       "      <td>MI:0018(two hybrid)</td>\n",
       "      <td>pubmed:9006895</td>\n",
       "      <td>BioGRID</td>\n",
       "    </tr>\n",
       "    <tr>\n",
       "      <th>1</th>\n",
       "      <td>MYPN</td>\n",
       "      <td>ACTN2</td>\n",
       "      <td>MI:0018(two hybrid)</td>\n",
       "      <td>pubmed:11309420</td>\n",
       "      <td>BioGRID</td>\n",
       "    </tr>\n",
       "    <tr>\n",
       "      <th>2</th>\n",
       "      <td>ACVR1</td>\n",
       "      <td>FNTA</td>\n",
       "      <td>MI:0018(two hybrid)</td>\n",
       "      <td>pubmed:8599089</td>\n",
       "      <td>BioGRID</td>\n",
       "    </tr>\n",
       "    <tr>\n",
       "      <th>3</th>\n",
       "      <td>GATA2</td>\n",
       "      <td>PML</td>\n",
       "      <td>MI:0018(two hybrid)</td>\n",
       "      <td>pubmed:10938104</td>\n",
       "      <td>BioGRID</td>\n",
       "    </tr>\n",
       "    <tr>\n",
       "      <th>4</th>\n",
       "      <td>RPA2</td>\n",
       "      <td>STAT3</td>\n",
       "      <td>MI:0018(two hybrid)</td>\n",
       "      <td>pubmed:10875894</td>\n",
       "      <td>BioGRID</td>\n",
       "    </tr>\n",
       "  </tbody>\n",
       "</table>\n",
       "</div>"
      ],
      "text/plain": [
       "   gene_A gene_B interaction_detection_method        pubmed_id database\n",
       "0  MAP2K4   FLNC          MI:0018(two hybrid)   pubmed:9006895  BioGRID\n",
       "1    MYPN  ACTN2          MI:0018(two hybrid)  pubmed:11309420  BioGRID\n",
       "2   ACVR1   FNTA          MI:0018(two hybrid)   pubmed:8599089  BioGRID\n",
       "3   GATA2    PML          MI:0018(two hybrid)  pubmed:10938104  BioGRID\n",
       "4    RPA2  STAT3          MI:0018(two hybrid)  pubmed:10875894  BioGRID"
      ]
     },
     "execution_count": 25,
     "metadata": {},
     "output_type": "execute_result"
    }
   ],
   "source": [
    "integrated_ppi2.head()"
   ]
  },
  {
   "cell_type": "code",
   "execution_count": 26,
   "metadata": {},
   "outputs": [
    {
     "data": {
      "text/plain": [
       "(1473106, 5)"
      ]
     },
     "execution_count": 26,
     "metadata": {},
     "output_type": "execute_result"
    }
   ],
   "source": [
    "integrated_ppi2.shape"
   ]
  },
  {
   "cell_type": "code",
   "execution_count": 27,
   "metadata": {},
   "outputs": [],
   "source": [
    "def mi_grandparent(idm):\n",
    "    mi = re.search(r'(MI:[0-9]+)(\\(.*\\))', idm).group(1)\n",
    "    return \",\".join(find_grandparent(mi))"
   ]
  },
  {
   "cell_type": "code",
   "execution_count": 28,
   "metadata": {},
   "outputs": [],
   "source": [
    "integrated_ppi2['grandparent_MI'] = integrated_ppi2['interaction_detection_method'].apply(mi_grandparent)\n",
    "integrated_ppi2 = integrated_ppi2[integrated_ppi2.grandparent_MI != \"-\"]"
   ]
  },
  {
   "cell_type": "code",
   "execution_count": 29,
   "metadata": {},
   "outputs": [
    {
     "data": {
      "text/html": [
       "<div>\n",
       "<style scoped>\n",
       "    .dataframe tbody tr th:only-of-type {\n",
       "        vertical-align: middle;\n",
       "    }\n",
       "\n",
       "    .dataframe tbody tr th {\n",
       "        vertical-align: top;\n",
       "    }\n",
       "\n",
       "    .dataframe thead th {\n",
       "        text-align: right;\n",
       "    }\n",
       "</style>\n",
       "<table border=\"1\" class=\"dataframe\">\n",
       "  <thead>\n",
       "    <tr style=\"text-align: right;\">\n",
       "      <th></th>\n",
       "      <th>gene_A</th>\n",
       "      <th>gene_B</th>\n",
       "      <th>interaction_detection_method</th>\n",
       "      <th>pubmed_id</th>\n",
       "      <th>database</th>\n",
       "      <th>grandparent_MI</th>\n",
       "    </tr>\n",
       "  </thead>\n",
       "  <tbody>\n",
       "    <tr>\n",
       "      <th>0</th>\n",
       "      <td>MAP2K4</td>\n",
       "      <td>FLNC</td>\n",
       "      <td>MI:0018(two hybrid)</td>\n",
       "      <td>pubmed:9006895</td>\n",
       "      <td>BioGRID</td>\n",
       "      <td>MI:0090</td>\n",
       "    </tr>\n",
       "    <tr>\n",
       "      <th>1</th>\n",
       "      <td>MYPN</td>\n",
       "      <td>ACTN2</td>\n",
       "      <td>MI:0018(two hybrid)</td>\n",
       "      <td>pubmed:11309420</td>\n",
       "      <td>BioGRID</td>\n",
       "      <td>MI:0090</td>\n",
       "    </tr>\n",
       "    <tr>\n",
       "      <th>2</th>\n",
       "      <td>ACVR1</td>\n",
       "      <td>FNTA</td>\n",
       "      <td>MI:0018(two hybrid)</td>\n",
       "      <td>pubmed:8599089</td>\n",
       "      <td>BioGRID</td>\n",
       "      <td>MI:0090</td>\n",
       "    </tr>\n",
       "    <tr>\n",
       "      <th>3</th>\n",
       "      <td>GATA2</td>\n",
       "      <td>PML</td>\n",
       "      <td>MI:0018(two hybrid)</td>\n",
       "      <td>pubmed:10938104</td>\n",
       "      <td>BioGRID</td>\n",
       "      <td>MI:0090</td>\n",
       "    </tr>\n",
       "    <tr>\n",
       "      <th>4</th>\n",
       "      <td>RPA2</td>\n",
       "      <td>STAT3</td>\n",
       "      <td>MI:0018(two hybrid)</td>\n",
       "      <td>pubmed:10875894</td>\n",
       "      <td>BioGRID</td>\n",
       "      <td>MI:0090</td>\n",
       "    </tr>\n",
       "  </tbody>\n",
       "</table>\n",
       "</div>"
      ],
      "text/plain": [
       "   gene_A gene_B interaction_detection_method        pubmed_id database  \\\n",
       "0  MAP2K4   FLNC          MI:0018(two hybrid)   pubmed:9006895  BioGRID   \n",
       "1    MYPN  ACTN2          MI:0018(two hybrid)  pubmed:11309420  BioGRID   \n",
       "2   ACVR1   FNTA          MI:0018(two hybrid)   pubmed:8599089  BioGRID   \n",
       "3   GATA2    PML          MI:0018(two hybrid)  pubmed:10938104  BioGRID   \n",
       "4    RPA2  STAT3          MI:0018(two hybrid)  pubmed:10875894  BioGRID   \n",
       "\n",
       "  grandparent_MI  \n",
       "0        MI:0090  \n",
       "1        MI:0090  \n",
       "2        MI:0090  \n",
       "3        MI:0090  \n",
       "4        MI:0090  "
      ]
     },
     "execution_count": 29,
     "metadata": {},
     "output_type": "execute_result"
    }
   ],
   "source": [
    "integrated_ppi2.head()"
   ]
  },
  {
   "cell_type": "code",
   "execution_count": 30,
   "metadata": {},
   "outputs": [
    {
     "data": {
      "text/plain": [
       "(1470340, 6)"
      ]
     },
     "execution_count": 30,
     "metadata": {},
     "output_type": "execute_result"
    }
   ],
   "source": [
    "integrated_ppi2.shape"
   ]
  },
  {
   "cell_type": "code",
   "execution_count": 31,
   "metadata": {},
   "outputs": [],
   "source": [
    "mi_remove = ['MI:0254', 'MI:1088', 'MI:0255'] # genetic interference, phenotype-based detection assay, post transcriptional interference\n",
    "integrated_ppi2 = integrated_ppi2[~integrated_ppi2.grandparent_MI.isin(mi_remove)]"
   ]
  },
  {
   "cell_type": "code",
   "execution_count": 32,
   "metadata": {},
   "outputs": [
    {
     "data": {
      "text/plain": [
       "(1459112, 6)"
      ]
     },
     "execution_count": 32,
     "metadata": {},
     "output_type": "execute_result"
    }
   ],
   "source": [
    "integrated_ppi2.shape"
   ]
  },
  {
   "cell_type": "markdown",
   "metadata": {},
   "source": [
    "### 1. Divide the PPIs into high-through (HT) and low-through (LT) (2022-05-26)"
   ]
  },
  {
   "cell_type": "code",
   "execution_count": 33,
   "metadata": {},
   "outputs": [],
   "source": [
    "integrated_ppi3 = integrated_ppi2[['gene_B', 'gene_A', 'interaction_detection_method', \n",
    "                                   'pubmed_id', 'database']]\n",
    "integrated_ppi3.columns = integrated_ppi2.columns[0:5]\n",
    "integrated_ppi3 = pd.concat([integrated_ppi2.iloc[:,0:5], integrated_ppi3], \n",
    "                            axis = 0, ignore_index = True)\n",
    "integrated_ppi3 = integrated_ppi3.drop_duplicates()"
   ]
  },
  {
   "cell_type": "code",
   "execution_count": 34,
   "metadata": {},
   "outputs": [
    {
     "data": {
      "text/html": [
       "<div>\n",
       "<style scoped>\n",
       "    .dataframe tbody tr th:only-of-type {\n",
       "        vertical-align: middle;\n",
       "    }\n",
       "\n",
       "    .dataframe tbody tr th {\n",
       "        vertical-align: top;\n",
       "    }\n",
       "\n",
       "    .dataframe thead th {\n",
       "        text-align: right;\n",
       "    }\n",
       "</style>\n",
       "<table border=\"1\" class=\"dataframe\">\n",
       "  <thead>\n",
       "    <tr style=\"text-align: right;\">\n",
       "      <th></th>\n",
       "      <th>gene_A</th>\n",
       "      <th>gene_B</th>\n",
       "      <th>interaction_detection_method</th>\n",
       "      <th>pubmed_id</th>\n",
       "      <th>database</th>\n",
       "    </tr>\n",
       "  </thead>\n",
       "  <tbody>\n",
       "    <tr>\n",
       "      <th>0</th>\n",
       "      <td>MAP2K4</td>\n",
       "      <td>FLNC</td>\n",
       "      <td>MI:0018(two hybrid)</td>\n",
       "      <td>pubmed:9006895</td>\n",
       "      <td>BioGRID</td>\n",
       "    </tr>\n",
       "    <tr>\n",
       "      <th>1</th>\n",
       "      <td>MYPN</td>\n",
       "      <td>ACTN2</td>\n",
       "      <td>MI:0018(two hybrid)</td>\n",
       "      <td>pubmed:11309420</td>\n",
       "      <td>BioGRID</td>\n",
       "    </tr>\n",
       "    <tr>\n",
       "      <th>2</th>\n",
       "      <td>ACVR1</td>\n",
       "      <td>FNTA</td>\n",
       "      <td>MI:0018(two hybrid)</td>\n",
       "      <td>pubmed:8599089</td>\n",
       "      <td>BioGRID</td>\n",
       "    </tr>\n",
       "    <tr>\n",
       "      <th>3</th>\n",
       "      <td>GATA2</td>\n",
       "      <td>PML</td>\n",
       "      <td>MI:0018(two hybrid)</td>\n",
       "      <td>pubmed:10938104</td>\n",
       "      <td>BioGRID</td>\n",
       "    </tr>\n",
       "    <tr>\n",
       "      <th>4</th>\n",
       "      <td>RPA2</td>\n",
       "      <td>STAT3</td>\n",
       "      <td>MI:0018(two hybrid)</td>\n",
       "      <td>pubmed:10875894</td>\n",
       "      <td>BioGRID</td>\n",
       "    </tr>\n",
       "  </tbody>\n",
       "</table>\n",
       "</div>"
      ],
      "text/plain": [
       "   gene_A gene_B interaction_detection_method        pubmed_id database\n",
       "0  MAP2K4   FLNC          MI:0018(two hybrid)   pubmed:9006895  BioGRID\n",
       "1    MYPN  ACTN2          MI:0018(two hybrid)  pubmed:11309420  BioGRID\n",
       "2   ACVR1   FNTA          MI:0018(two hybrid)   pubmed:8599089  BioGRID\n",
       "3   GATA2    PML          MI:0018(two hybrid)  pubmed:10938104  BioGRID\n",
       "4    RPA2  STAT3          MI:0018(two hybrid)  pubmed:10875894  BioGRID"
      ]
     },
     "execution_count": 34,
     "metadata": {},
     "output_type": "execute_result"
    }
   ],
   "source": [
    "integrated_ppi3.head()"
   ]
  },
  {
   "cell_type": "code",
   "execution_count": 35,
   "metadata": {},
   "outputs": [
    {
     "data": {
      "text/plain": [
       "(2843072, 5)"
      ]
     },
     "execution_count": 35,
     "metadata": {},
     "output_type": "execute_result"
    }
   ],
   "source": [
    "integrated_ppi3.shape"
   ]
  },
  {
   "cell_type": "code",
   "execution_count": 36,
   "metadata": {},
   "outputs": [],
   "source": [
    "throughput = integrated_ppi3[['gene_A', 'gene_B', 'pubmed_id']]\n",
    "throughput = throughput.drop_duplicates()\n",
    "\n",
    "pubmeds = throughput['pubmed_id'].tolist()\n",
    "pubmed_num = Counter(pubmeds)\n",
    "\n",
    "def ht_lt(pubmed):\n",
    "    if pubmed_num[pubmed] >= 200:\n",
    "        return \"HT\"\n",
    "    else:\n",
    "        return \"LT\""
   ]
  },
  {
   "cell_type": "code",
   "execution_count": 37,
   "metadata": {},
   "outputs": [
    {
     "data": {
      "text/plain": [
       "(1787114, 3)"
      ]
     },
     "execution_count": 37,
     "metadata": {},
     "output_type": "execute_result"
    }
   ],
   "source": [
    "throughput.shape"
   ]
  },
  {
   "cell_type": "code",
   "execution_count": 38,
   "metadata": {},
   "outputs": [],
   "source": [
    "integrated_ppi3['throughput'] = integrated_ppi3['pubmed_id'].apply(ht_lt)"
   ]
  },
  {
   "cell_type": "code",
   "execution_count": 39,
   "metadata": {},
   "outputs": [
    {
     "data": {
      "text/html": [
       "<div>\n",
       "<style scoped>\n",
       "    .dataframe tbody tr th:only-of-type {\n",
       "        vertical-align: middle;\n",
       "    }\n",
       "\n",
       "    .dataframe tbody tr th {\n",
       "        vertical-align: top;\n",
       "    }\n",
       "\n",
       "    .dataframe thead th {\n",
       "        text-align: right;\n",
       "    }\n",
       "</style>\n",
       "<table border=\"1\" class=\"dataframe\">\n",
       "  <thead>\n",
       "    <tr style=\"text-align: right;\">\n",
       "      <th></th>\n",
       "      <th>gene_A</th>\n",
       "      <th>gene_B</th>\n",
       "      <th>interaction_detection_method</th>\n",
       "      <th>pubmed_id</th>\n",
       "      <th>database</th>\n",
       "      <th>throughput</th>\n",
       "    </tr>\n",
       "  </thead>\n",
       "  <tbody>\n",
       "    <tr>\n",
       "      <th>0</th>\n",
       "      <td>MAP2K4</td>\n",
       "      <td>FLNC</td>\n",
       "      <td>MI:0018(two hybrid)</td>\n",
       "      <td>pubmed:9006895</td>\n",
       "      <td>BioGRID</td>\n",
       "      <td>LT</td>\n",
       "    </tr>\n",
       "    <tr>\n",
       "      <th>1</th>\n",
       "      <td>MYPN</td>\n",
       "      <td>ACTN2</td>\n",
       "      <td>MI:0018(two hybrid)</td>\n",
       "      <td>pubmed:11309420</td>\n",
       "      <td>BioGRID</td>\n",
       "      <td>LT</td>\n",
       "    </tr>\n",
       "    <tr>\n",
       "      <th>2</th>\n",
       "      <td>ACVR1</td>\n",
       "      <td>FNTA</td>\n",
       "      <td>MI:0018(two hybrid)</td>\n",
       "      <td>pubmed:8599089</td>\n",
       "      <td>BioGRID</td>\n",
       "      <td>LT</td>\n",
       "    </tr>\n",
       "    <tr>\n",
       "      <th>3</th>\n",
       "      <td>GATA2</td>\n",
       "      <td>PML</td>\n",
       "      <td>MI:0018(two hybrid)</td>\n",
       "      <td>pubmed:10938104</td>\n",
       "      <td>BioGRID</td>\n",
       "      <td>LT</td>\n",
       "    </tr>\n",
       "    <tr>\n",
       "      <th>4</th>\n",
       "      <td>RPA2</td>\n",
       "      <td>STAT3</td>\n",
       "      <td>MI:0018(two hybrid)</td>\n",
       "      <td>pubmed:10875894</td>\n",
       "      <td>BioGRID</td>\n",
       "      <td>LT</td>\n",
       "    </tr>\n",
       "  </tbody>\n",
       "</table>\n",
       "</div>"
      ],
      "text/plain": [
       "   gene_A gene_B interaction_detection_method        pubmed_id database  \\\n",
       "0  MAP2K4   FLNC          MI:0018(two hybrid)   pubmed:9006895  BioGRID   \n",
       "1    MYPN  ACTN2          MI:0018(two hybrid)  pubmed:11309420  BioGRID   \n",
       "2   ACVR1   FNTA          MI:0018(two hybrid)   pubmed:8599089  BioGRID   \n",
       "3   GATA2    PML          MI:0018(two hybrid)  pubmed:10938104  BioGRID   \n",
       "4    RPA2  STAT3          MI:0018(two hybrid)  pubmed:10875894  BioGRID   \n",
       "\n",
       "  throughput  \n",
       "0         LT  \n",
       "1         LT  \n",
       "2         LT  \n",
       "3         LT  \n",
       "4         LT  "
      ]
     },
     "execution_count": 39,
     "metadata": {},
     "output_type": "execute_result"
    }
   ],
   "source": [
    "integrated_ppi3.head()"
   ]
  },
  {
   "cell_type": "markdown",
   "metadata": {},
   "source": [
    "### 2. Combine the same interaction from different literatures, experimental scales, databases and method (MI-PSI) (2022-05-26)"
   ]
  },
  {
   "cell_type": "code",
   "execution_count": 40,
   "metadata": {},
   "outputs": [],
   "source": [
    "def comb(df):\n",
    "    return ';'.join(df.values)\n",
    "\n",
    "def inter_comb(name):\n",
    "    ppi = integrated_ppi3[['gene_A','gene_B',name]]\n",
    "    ppi = ppi.drop_duplicates()\n",
    "    ppi2 = ppi.groupby(['gene_A','gene_B'])[name].apply(comb)\n",
    "    interaction_list = []\n",
    "    for i in range(len(ppi2.index)):\n",
    "        interaction_list.append(ppi2.index[i])\n",
    "    ppi3 = pd.DataFrame(interaction_list)\n",
    "    ppi3.columns = ppi2.index.names\n",
    "    ppi3[name] = ppi2.values\n",
    "    return ppi3"
   ]
  },
  {
   "cell_type": "code",
   "execution_count": 41,
   "metadata": {},
   "outputs": [],
   "source": [
    "integrated_ppi4 = pd.DataFrame({'gene_A':[], 'gene_B':[]})\n",
    "for name in integrated_ppi3.columns[2:6].to_list():\n",
    "    ppi = inter_comb(name)\n",
    "    integrated_ppi4 = pd.merge(integrated_ppi4, ppi, how='right',\n",
    "                               on=['gene_A', 'gene_B'])"
   ]
  },
  {
   "cell_type": "code",
   "execution_count": 42,
   "metadata": {},
   "outputs": [
    {
     "data": {
      "text/html": [
       "<div>\n",
       "<style scoped>\n",
       "    .dataframe tbody tr th:only-of-type {\n",
       "        vertical-align: middle;\n",
       "    }\n",
       "\n",
       "    .dataframe tbody tr th {\n",
       "        vertical-align: top;\n",
       "    }\n",
       "\n",
       "    .dataframe thead th {\n",
       "        text-align: right;\n",
       "    }\n",
       "</style>\n",
       "<table border=\"1\" class=\"dataframe\">\n",
       "  <thead>\n",
       "    <tr style=\"text-align: right;\">\n",
       "      <th></th>\n",
       "      <th>gene_A</th>\n",
       "      <th>gene_B</th>\n",
       "      <th>interaction_detection_method</th>\n",
       "      <th>pubmed_id</th>\n",
       "      <th>database</th>\n",
       "      <th>throughput</th>\n",
       "    </tr>\n",
       "  </thead>\n",
       "  <tbody>\n",
       "    <tr>\n",
       "      <th>0</th>\n",
       "      <td>A1BG</td>\n",
       "      <td>ABCC6</td>\n",
       "      <td>MI:0018(two hybrid)</td>\n",
       "      <td>pubmed:21988832</td>\n",
       "      <td>BioGRID;IntAct;MatrixDB</td>\n",
       "      <td>HT</td>\n",
       "    </tr>\n",
       "    <tr>\n",
       "      <th>1</th>\n",
       "      <td>A1BG</td>\n",
       "      <td>ANXA7</td>\n",
       "      <td>MI:0018(two hybrid)</td>\n",
       "      <td>pubmed:21900206</td>\n",
       "      <td>BioGRID;IntAct;MINT;MatrixDB</td>\n",
       "      <td>HT</td>\n",
       "    </tr>\n",
       "    <tr>\n",
       "      <th>2</th>\n",
       "      <td>A1BG</td>\n",
       "      <td>CDKN1A</td>\n",
       "      <td>MI:0018(two hybrid)</td>\n",
       "      <td>pubmed:21900206</td>\n",
       "      <td>IntAct;MINT;MatrixDB;BioGRID</td>\n",
       "      <td>HT</td>\n",
       "    </tr>\n",
       "    <tr>\n",
       "      <th>3</th>\n",
       "      <td>A1BG</td>\n",
       "      <td>CRISP3</td>\n",
       "      <td>MI:0004(affinity chromatography technology)</td>\n",
       "      <td>pubmed:15461460</td>\n",
       "      <td>BioGRID</td>\n",
       "      <td>LT</td>\n",
       "    </tr>\n",
       "    <tr>\n",
       "      <th>4</th>\n",
       "      <td>A1BG</td>\n",
       "      <td>FDXR</td>\n",
       "      <td>MI:0004(affinity chromatography technology);MI...</td>\n",
       "      <td>pubmed:28514442;pubmed:33961781</td>\n",
       "      <td>BioGRID;IntAct</td>\n",
       "      <td>HT</td>\n",
       "    </tr>\n",
       "  </tbody>\n",
       "</table>\n",
       "</div>"
      ],
      "text/plain": [
       "  gene_A  gene_B                       interaction_detection_method  \\\n",
       "0   A1BG   ABCC6                                MI:0018(two hybrid)   \n",
       "1   A1BG   ANXA7                                MI:0018(two hybrid)   \n",
       "2   A1BG  CDKN1A                                MI:0018(two hybrid)   \n",
       "3   A1BG  CRISP3        MI:0004(affinity chromatography technology)   \n",
       "4   A1BG    FDXR  MI:0004(affinity chromatography technology);MI...   \n",
       "\n",
       "                         pubmed_id                      database throughput  \n",
       "0                  pubmed:21988832       BioGRID;IntAct;MatrixDB         HT  \n",
       "1                  pubmed:21900206  BioGRID;IntAct;MINT;MatrixDB         HT  \n",
       "2                  pubmed:21900206  IntAct;MINT;MatrixDB;BioGRID         HT  \n",
       "3                  pubmed:15461460                       BioGRID         LT  \n",
       "4  pubmed:28514442;pubmed:33961781                BioGRID;IntAct         HT  "
      ]
     },
     "execution_count": 42,
     "metadata": {},
     "output_type": "execute_result"
    }
   ],
   "source": [
    "integrated_ppi4.head()"
   ]
  },
  {
   "cell_type": "code",
   "execution_count": 43,
   "metadata": {},
   "outputs": [
    {
     "data": {
      "text/plain": [
       "(1396964, 6)"
      ]
     },
     "execution_count": 43,
     "metadata": {},
     "output_type": "execute_result"
    }
   ],
   "source": [
    "integrated_ppi4.shape"
   ]
  },
  {
   "cell_type": "markdown",
   "metadata": {},
   "source": [
    "### 3. Remove the replicated interaction pairs (retain A-B, but not B-A) (2022-05-26)"
   ]
  },
  {
   "cell_type": "code",
   "execution_count": 44,
   "metadata": {},
   "outputs": [],
   "source": [
    "interaction = []\n",
    "gene_A = []\n",
    "gene_B = []\n",
    "interaction_detection_method = []\n",
    "pubmed_id = []\n",
    "database = []\n",
    "throughput = []\n",
    "\n",
    "for i in range(integrated_ppi4.shape[0]):\n",
    "    if integrated_ppi4.iloc[i,1] + '-' + integrated_ppi4.iloc[i,0] in interaction:\n",
    "        pass\n",
    "    else:\n",
    "        interaction.append(integrated_ppi4.iloc[i,0] + '-' + integrated_ppi4.iloc[i,1])\n",
    "        gene_A.append(integrated_ppi4.iloc[i,0])\n",
    "        gene_B.append(integrated_ppi4.iloc[i,1])\n",
    "        interaction_detection_method.append(integrated_ppi4.iloc[i,2])\n",
    "        pubmed_id.append(integrated_ppi4.iloc[i,3])\n",
    "        database.append(integrated_ppi4.iloc[i,4])\n",
    "        throughput.append(';'.join(sorted(integrated_ppi4.iloc[i,5].split(';'))))\n",
    "        \n",
    "integrated_ppi5 = pd.DataFrame({'Gene_A': gene_A, \n",
    "                                'Gene_B': gene_B, \n",
    "                                'Interaction_detection_method': interaction_detection_method, \n",
    "                                'Pubmed_id': pubmed_id,\n",
    "                                'Database': database,\n",
    "                                'Throughput': throughput})"
   ]
  },
  {
   "cell_type": "code",
   "execution_count": 45,
   "metadata": {},
   "outputs": [
    {
     "data": {
      "text/plain": [
       "(698482, 6)"
      ]
     },
     "execution_count": 45,
     "metadata": {},
     "output_type": "execute_result"
    }
   ],
   "source": [
    "integrated_ppi5.shape"
   ]
  },
  {
   "cell_type": "code",
   "execution_count": 46,
   "metadata": {},
   "outputs": [
    {
     "data": {
      "text/html": [
       "<div>\n",
       "<style scoped>\n",
       "    .dataframe tbody tr th:only-of-type {\n",
       "        vertical-align: middle;\n",
       "    }\n",
       "\n",
       "    .dataframe tbody tr th {\n",
       "        vertical-align: top;\n",
       "    }\n",
       "\n",
       "    .dataframe thead th {\n",
       "        text-align: right;\n",
       "    }\n",
       "</style>\n",
       "<table border=\"1\" class=\"dataframe\">\n",
       "  <thead>\n",
       "    <tr style=\"text-align: right;\">\n",
       "      <th></th>\n",
       "      <th>Gene_A</th>\n",
       "      <th>Gene_B</th>\n",
       "      <th>Interaction_detection_method</th>\n",
       "      <th>Pubmed_id</th>\n",
       "      <th>Database</th>\n",
       "      <th>Throughput</th>\n",
       "    </tr>\n",
       "  </thead>\n",
       "  <tbody>\n",
       "    <tr>\n",
       "      <th>0</th>\n",
       "      <td>A1BG</td>\n",
       "      <td>ABCC6</td>\n",
       "      <td>MI:0018(two hybrid)</td>\n",
       "      <td>pubmed:21988832</td>\n",
       "      <td>BioGRID;IntAct;MatrixDB</td>\n",
       "      <td>HT</td>\n",
       "    </tr>\n",
       "    <tr>\n",
       "      <th>1</th>\n",
       "      <td>A1BG</td>\n",
       "      <td>ANXA7</td>\n",
       "      <td>MI:0018(two hybrid)</td>\n",
       "      <td>pubmed:21900206</td>\n",
       "      <td>BioGRID;IntAct;MINT;MatrixDB</td>\n",
       "      <td>HT</td>\n",
       "    </tr>\n",
       "    <tr>\n",
       "      <th>2</th>\n",
       "      <td>A1BG</td>\n",
       "      <td>CDKN1A</td>\n",
       "      <td>MI:0018(two hybrid)</td>\n",
       "      <td>pubmed:21900206</td>\n",
       "      <td>IntAct;MINT;MatrixDB;BioGRID</td>\n",
       "      <td>HT</td>\n",
       "    </tr>\n",
       "    <tr>\n",
       "      <th>3</th>\n",
       "      <td>A1BG</td>\n",
       "      <td>CRISP3</td>\n",
       "      <td>MI:0004(affinity chromatography technology)</td>\n",
       "      <td>pubmed:15461460</td>\n",
       "      <td>BioGRID</td>\n",
       "      <td>LT</td>\n",
       "    </tr>\n",
       "    <tr>\n",
       "      <th>4</th>\n",
       "      <td>A1BG</td>\n",
       "      <td>FDXR</td>\n",
       "      <td>MI:0004(affinity chromatography technology);MI...</td>\n",
       "      <td>pubmed:28514442;pubmed:33961781</td>\n",
       "      <td>BioGRID;IntAct</td>\n",
       "      <td>HT</td>\n",
       "    </tr>\n",
       "  </tbody>\n",
       "</table>\n",
       "</div>"
      ],
      "text/plain": [
       "  Gene_A  Gene_B                       Interaction_detection_method  \\\n",
       "0   A1BG   ABCC6                                MI:0018(two hybrid)   \n",
       "1   A1BG   ANXA7                                MI:0018(two hybrid)   \n",
       "2   A1BG  CDKN1A                                MI:0018(two hybrid)   \n",
       "3   A1BG  CRISP3        MI:0004(affinity chromatography technology)   \n",
       "4   A1BG    FDXR  MI:0004(affinity chromatography technology);MI...   \n",
       "\n",
       "                         Pubmed_id                      Database Throughput  \n",
       "0                  pubmed:21988832       BioGRID;IntAct;MatrixDB         HT  \n",
       "1                  pubmed:21900206  BioGRID;IntAct;MINT;MatrixDB         HT  \n",
       "2                  pubmed:21900206  IntAct;MINT;MatrixDB;BioGRID         HT  \n",
       "3                  pubmed:15461460                       BioGRID         LT  \n",
       "4  pubmed:28514442;pubmed:33961781                BioGRID;IntAct         HT  "
      ]
     },
     "execution_count": 46,
     "metadata": {},
     "output_type": "execute_result"
    }
   ],
   "source": [
    "integrated_ppi5.head()"
   ]
  },
  {
   "cell_type": "code",
   "execution_count": 47,
   "metadata": {},
   "outputs": [],
   "source": [
    "integrated_ppi5.to_csv(path_or_buf='../result/integrated_ppi.txt',\n",
    "                       index = False, sep = '\\t')"
   ]
  },
  {
   "cell_type": "markdown",
   "metadata": {},
   "source": [
    "### 4. Basic statistics"
   ]
  },
  {
   "cell_type": "code",
   "execution_count": 48,
   "metadata": {},
   "outputs": [],
   "source": [
    "\"\"\"The number of PPIs supported by different scale experiments\"\"\"\n",
    "scale_num = pd.DataFrame.from_dict(Counter(integrated_ppi5['Throughput'].tolist()), \n",
    "                                   orient=\"index\", columns = ['Number'])\n",
    "scale_num = scale_num.reset_index().rename(columns = {'index': 'Throughput'})"
   ]
  },
  {
   "cell_type": "code",
   "execution_count": 49,
   "metadata": {},
   "outputs": [
    {
     "data": {
      "text/html": [
       "<div>\n",
       "<style scoped>\n",
       "    .dataframe tbody tr th:only-of-type {\n",
       "        vertical-align: middle;\n",
       "    }\n",
       "\n",
       "    .dataframe tbody tr th {\n",
       "        vertical-align: top;\n",
       "    }\n",
       "\n",
       "    .dataframe thead th {\n",
       "        text-align: right;\n",
       "    }\n",
       "</style>\n",
       "<table border=\"1\" class=\"dataframe\">\n",
       "  <thead>\n",
       "    <tr style=\"text-align: right;\">\n",
       "      <th></th>\n",
       "      <th>Throughput</th>\n",
       "      <th>Number</th>\n",
       "    </tr>\n",
       "  </thead>\n",
       "  <tbody>\n",
       "    <tr>\n",
       "      <th>0</th>\n",
       "      <td>HT</td>\n",
       "      <td>604730</td>\n",
       "    </tr>\n",
       "    <tr>\n",
       "      <th>1</th>\n",
       "      <td>LT</td>\n",
       "      <td>75436</td>\n",
       "    </tr>\n",
       "    <tr>\n",
       "      <th>2</th>\n",
       "      <td>HT;LT</td>\n",
       "      <td>18316</td>\n",
       "    </tr>\n",
       "  </tbody>\n",
       "</table>\n",
       "</div>"
      ],
      "text/plain": [
       "  Throughput  Number\n",
       "0         HT  604730\n",
       "1         LT   75436\n",
       "2      HT;LT   18316"
      ]
     },
     "execution_count": 49,
     "metadata": {},
     "output_type": "execute_result"
    }
   ],
   "source": [
    "scale_num"
   ]
  },
  {
   "cell_type": "code",
   "execution_count": 50,
   "metadata": {},
   "outputs": [
    {
     "data": {
      "text/plain": [
       "Text(0.5, 1.0, '698,482 human PPIs')"
      ]
     },
     "execution_count": 50,
     "metadata": {},
     "output_type": "execute_result"
    },
    {
     "data": {
      "image/png": "[encoded data removed]",
      "text/plain": [
       "<Figure size 432x288 with 1 Axes>"
      ]
     },
     "metadata": {},
     "output_type": "display_data"
    }
   ],
   "source": [
    "#from matplotlib.backends.backend_pdf import PdfPages\n",
    "plt.rcParams['pdf.fonttype'] = 42\n",
    "plt.rcParams['ps.fonttype'] = 42\n",
    "plt.pie(scale_num['Number'].tolist(), \n",
    "        labels=scale_num['Throughput'], \n",
    "        autopct='%1.2f%%', \n",
    "        colors=['#18BC9B', '#E57E23', '#2780B9'])\n",
    "plt.title('698,482 human PPIs')\n",
    "#plt.axis('equal')\n",
    "#plt.show()\n",
    "#plt.savefig('throughput_number.pdf')"
   ]
  },
  {
   "cell_type": "markdown",
   "metadata": {},
   "source": [
    "# Network analysis"
   ]
  },
  {
   "cell_type": "code",
   "execution_count": 52,
   "metadata": {},
   "outputs": [],
   "source": [
    "import networkx as nx"
   ]
  },
  {
   "cell_type": "markdown",
   "metadata": {},
   "source": [
    "### 1. Network topological properties (2022-05-30)"
   ]
  },
  {
   "cell_type": "code",
   "execution_count": 53,
   "metadata": {},
   "outputs": [],
   "source": [
    "ppi = pd.read_csv(r'../result/integrated_ppi.txt', sep=\"\\t\")"
   ]
  },
  {
   "cell_type": "code",
   "execution_count": 54,
   "metadata": {},
   "outputs": [],
   "source": [
    "G = nx.from_pandas_edgelist(ppi[['Gene_A', 'Gene_B']], source='Gene_A', target='Gene_B', \n",
    "                            edge_attr=None, create_using=None)"
   ]
  },
  {
   "cell_type": "code",
   "execution_count": 55,
   "metadata": {},
   "outputs": [
    {
     "name": "stdout",
     "output_type": "stream",
     "text": [
      "Number of nodes N\t 18101\n",
      "Number of edges N\t 698482\n"
     ]
    }
   ],
   "source": [
    "\"\"\"Global network\"\"\"\n",
    "print(\"Number of nodes N\\t\", len(list(G.nodes)))\n",
    "print(\"Number of edges N\\t\", len(list(G.edges)))"
   ]
  },
  {
   "cell_type": "code",
   "execution_count": 56,
   "metadata": {},
   "outputs": [],
   "source": [
    "\"\"\"The largest connected component\"\"\"\n",
    "largest_components=max(nx.connected_components(G),key=len) # genes in the largest connected component\n",
    "S = [G.subgraph(c).copy() for c in nx.connected_components(G)] # all the components\n",
    "max_S = nx.to_pandas_edgelist(S[0]) # the largest connected component\n",
    "max_S.to_csv(path_or_buf='../result/integrated_ppi_largest_component.txt', index = 0, sep = '\\t', header=0)"
   ]
  },
  {
   "cell_type": "code",
   "execution_count": 57,
   "metadata": {},
   "outputs": [
    {
     "name": "stdout",
     "output_type": "stream",
     "text": [
      "Number of nodes N\t 18101\n",
      "Number of edges N\t 698482\n",
      "Mean degree <k>\t 77.17606762057345\n",
      "Mean clustering <c>\t 0.11820429247886258\n",
      "Mean distance <d>\t 2.7289419131020813\n",
      "Diameter dmax\t 6\n"
     ]
    }
   ],
   "source": [
    "\"\"\"Global network\"\"\"\n",
    "print(\"Numb../intermediate/ nodes N\\t\", len(list(S[0].nodes)))\n",
    "print(\"Number of edges N\\t\", len(list(S[0].edges)))\n",
    "print(\"Mean degree <k>\\t\", len(list(S[0].edges))*2/len(list(S[0].nodes)))\n",
    "print(\"Mean clustering <c>\\t\", nx.average_clustering(S[0]))\n",
    "print(\"Mean distance <d>\\t\", nx.average_shortest_path_length(S[0]))\n",
    "print(\"Diameter dmax\\t\", nx.diameter(S[0]))"
   ]
  },
  {
   "cell_type": "code",
   "execution_count": null,
   "metadata": {},
   "outputs": [],
   "source": [
    "\"\"\"For each node\"\"\"\n",
    "nodes = sorted(list(G.nodes()))\n",
    "\n",
    "Degree = nx.degree(G)  # Degree\n",
    "k = [Degree[node] for node in nodes]\n",
    "\n",
    "Betweenness_centrality = nx.betweenness_centrality(G)  # Betweenness\n",
    "BC = [Betweenness_centrality[node] for node in nodes]\n",
    "\n",
    "Eigenvector_centrality = nx.eigenvector_centrality(G)  # Eigenvector centrality\n",
    "x = [Eigenvector_centrality[node] for node in nodes]\n",
    "\n",
    "Clustering_coefficient = nx.clustering(G) # local clustering coefficient\n",
    "C = [Clustering_coefficient[node] for node in nodes]\n",
    "\n",
    "Assortativity = nx.average_neighbor_degree(G) # The average neighborhood degree of a node\n",
    "NC = [Assortativity[node] for node in nodes]\n",
    "\n",
    "Closeness_centrality = nx.closeness_centrality(G) # reciprocal of the average shortest path distance\n",
    "SP = [Closeness_centrality[node] for node in nodes]\n",
    "\n",
    "node_info = pd.DataFrame({'Gene': nodes,\n",
    "                          'Degree': k, \n",
    "                          'Betweenness_centrality': BC,\n",
    "                          'Eigenvector_centrality': x,\n",
    "                          'Clustering_coefficient': C,\n",
    "                          'Assortativity': NC,\n",
    "                          'Closeness_centrality': SP})"
   ]
  },
  {
   "cell_type": "code",
   "execution_count": null,
   "metadata": {},
   "outputs": [
    {
     "data": {
      "text/html": [
       "<div>\n",
       "<style scoped>\n",
       "    .dataframe tbody tr th:only-of-type {\n",
       "        vertical-align: middle;\n",
       "    }\n",
       "\n",
       "    .dataframe tbody tr th {\n",
       "        vertical-align: top;\n",
       "    }\n",
       "\n",
       "    .dataframe thead th {\n",
       "        text-align: right;\n",
       "    }\n",
       "</style>\n",
       "<table border=\"1\" class=\"dataframe\">\n",
       "  <thead>\n",
       "    <tr style=\"text-align: right;\">\n",
       "      <th></th>\n",
       "      <th>Gene</th>\n",
       "      <th>Degree</th>\n",
       "      <th>Betweenness_centrality</th>\n",
       "      <th>Eigenvector_centrality</th>\n",
       "      <th>Clustering_coefficient</th>\n",
       "      <th>Assortativity</th>\n",
       "      <th>Closeness_centrality</th>\n",
       "    </tr>\n",
       "  </thead>\n",
       "  <tbody>\n",
       "    <tr>\n",
       "      <th>0</th>\n",
       "      <td>A1BG</td>\n",
       "      <td>27</td>\n",
       "      <td>0.000009</td>\n",
       "      <td>0.000732</td>\n",
       "      <td>0.037037</td>\n",
       "      <td>212.333333</td>\n",
       "      <td>0.355222</td>\n",
       "    </tr>\n",
       "    <tr>\n",
       "      <th>1</th>\n",
       "      <td>A1CF</td>\n",
       "      <td>30</td>\n",
       "      <td>0.000008</td>\n",
       "      <td>0.000657</td>\n",
       "      <td>0.050575</td>\n",
       "      <td>188.533333</td>\n",
       "      <td>0.352325</td>\n",
       "    </tr>\n",
       "    <tr>\n",
       "      <th>2</th>\n",
       "      <td>A2M</td>\n",
       "      <td>229</td>\n",
       "      <td>0.000515</td>\n",
       "      <td>0.005989</td>\n",
       "      <td>0.034590</td>\n",
       "      <td>186.969432</td>\n",
       "      <td>0.423759</td>\n",
       "    </tr>\n",
       "    <tr>\n",
       "      <th>3</th>\n",
       "      <td>A2ML1</td>\n",
       "      <td>112</td>\n",
       "      <td>0.000179</td>\n",
       "      <td>0.002471</td>\n",
       "      <td>0.017053</td>\n",
       "      <td>182.178571</td>\n",
       "      <td>0.387829</td>\n",
       "    </tr>\n",
       "    <tr>\n",
       "      <th>4</th>\n",
       "      <td>A3GALT2</td>\n",
       "      <td>1</td>\n",
       "      <td>0.000000</td>\n",
       "      <td>0.000148</td>\n",
       "      <td>0.000000</td>\n",
       "      <td>818.000000</td>\n",
       "      <td>0.319856</td>\n",
       "    </tr>\n",
       "  </tbody>\n",
       "</table>\n",
       "</div>"
      ],
      "text/plain": [
       "      Gene  Degree  Betweenness_centrality  Eigenvector_centrality  \\\n",
       "0     A1BG      27                0.000009                0.000732   \n",
       "1     A1CF      30                0.000008                0.000657   \n",
       "2      A2M     229                0.000515                0.005989   \n",
       "3    A2ML1     112                0.000179                0.002471   \n",
       "4  A3GALT2       1                0.000000                0.000148   \n",
       "\n",
       "   Clustering_coefficient  Assortativity  Closeness_centrality  \n",
       "0                0.037037     212.333333              0.355222  \n",
       "1                0.050575     188.533333              0.352325  \n",
       "2                0.034590     186.969432              0.423759  \n",
       "3                0.017053     182.178571              0.387829  \n",
       "4                0.000000     818.000000              0.319856  "
      ]
     },
     "execution_count": 59,
     "metadata": {},
     "output_type": "execute_result"
    }
   ],
   "source": [
    "node_info.head()"
   ]
  },
  {
   "cell_type": "code",
   "execution_count": null,
   "metadata": {},
   "outputs": [
    {
     "data": {
      "text/plain": [
       "(18101, 7)"
      ]
     },
     "execution_count": 60,
     "metadata": {},
     "output_type": "execute_result"
    }
   ],
   "source": [
    "node_info.shape"
   ]
  },
  {
   "cell_type": "code",
   "execution_count": null,
   "metadata": {},
   "outputs": [],
   "source": [
    "node_info.to_csv(path_or_buf = '../intermediate/node_centrality.txt', index=False, sep='\\t')"
   ]
  },
  {
   "cell_type": "markdown",
   "metadata": {},
   "source": [
    "### 2. Degree distribution"
   ]
  },
  {
   "cell_type": "code",
   "execution_count": null,
   "metadata": {},
   "outputs": [],
   "source": [
    "degree_freq = Counter(node_info['Degree'].tolist())"
   ]
  },
  {
   "cell_type": "code",
   "execution_count": 63,
   "metadata": {},
   "outputs": [],
   "source": [
    "log10d = []\n",
    "log10f = []\n",
    "for i in degree_freq:\n",
    "    log10d.append(math.log10(i))\n",
    "    log10f.append(math.log10(degree_freq[i]/node_info.shape[0]))"
   ]
  },
  {
   "cell_type": "code",
   "execution_count": 64,
   "metadata": {},
   "outputs": [],
   "source": [
    "from sklearn.linear_model import LinearRegression"
   ]
  },
  {
   "cell_type": "code",
   "execution_count": 65,
   "metadata": {},
   "outputs": [
    {
     "name": "stdout",
     "output_type": "stream",
     "text": [
      "[[-1.42809617]] [-0.01976708]\n"
     ]
    }
   ],
   "source": [
    "regressor = LinearRegression()\n",
    "regressor = regressor.fit(np.reshape(log10d, (-1, 1)), np.reshape(log10f, (-1, 1)))\n",
    "print(regressor.coef_, regressor.intercept_)"
   ]
  },
  {
   "cell_type": "code",
   "execution_count": 66,
   "metadata": {},
   "outputs": [
    {
     "data": {
      "image/png": "[encoded data removed]",
      "text/plain": [
       "<Figure size 360x360 with 1 Axes>"
      ]
     },
     "metadata": {
      "needs_background": "light"
     },
     "output_type": "display_data"
    }
   ],
   "source": [
    "plt.rcParams['pdf.fonttype'] = 42\n",
    "plt.rcParams['ps.fonttype'] = 42\n",
    "\n",
    "plt.figure(figsize=(5, 5))\n",
    "plt.xticks(fontsize=10)\n",
    "plt.yticks(fontsize=10)\n",
    "\n",
    "plt.title(\"Human\", fontsize=20)\n",
    "plt.xlabel(\"Number of links (log10)\", fontsize=16)\n",
    "plt.ylabel(\"Fraction of genes (log10)\", fontsize=16)\n",
    "\n",
    "plt.scatter(log10d, log10f, c=\"grey\", alpha=0.75)\n",
    "plt.plot(np.reshape(log10d, (-1, 1)), \n",
    "         regressor.predict(np.reshape(log10d, (-1, 1))), \n",
    "         c=\"#E74C3C\")\n",
    "\n",
    "plt.text(2.2, -0.5, 'P(k)~k-1.43', size = 14)\n",
    "#plt.show()\n",
    "\n",
    "plt.savefig('../intermediate/degree_distribution.pdf')"
   ]
  },
  {
   "cell_type": "code",
   "execution_count": null,
   "metadata": {},
   "outputs": [],
   "source": [
    "tissue_exp = tissue_exp[tissue_exp.Description.isin(list(G.nodes()))]"
   ]
  },
  {
   "cell_type": "code",
   "execution_count": null,
   "metadata": {},
   "outputs": [
    {
     "data": {
      "text/plain": [
       "(16694, 44)"
      ]
     },
     "execution_count": 51,
     "metadata": {},
     "output_type": "execute_result"
    }
   ],
   "source": [
    "tissue_exp.shape"
   ]
  },
  {
   "cell_type": "code",
   "execution_count": null,
   "metadata": {},
   "outputs": [
    {
     "data": {
      "text/html": [
       "<div>\n",
       "<style scoped>\n",
       "    .dataframe tbody tr th:only-of-type {\n",
       "        vertical-align: middle;\n",
       "    }\n",
       "\n",
       "    .dataframe tbody tr th {\n",
       "        vertical-align: top;\n",
       "    }\n",
       "\n",
       "    .dataframe thead th {\n",
       "        text-align: right;\n",
       "    }\n",
       "</style>\n",
       "<table border=\"1\" class=\"dataframe\">\n",
       "  <thead>\n",
       "    <tr style=\"text-align: right;\">\n",
       "      <th></th>\n",
       "      <th>Gene_A</th>\n",
       "      <th>Gene_B</th>\n",
       "      <th>Interaction_detection_method</th>\n",
       "      <th>Pubmed_id</th>\n",
       "      <th>Database</th>\n",
       "      <th>Throughput</th>\n",
       "    </tr>\n",
       "  </thead>\n",
       "  <tbody>\n",
       "    <tr>\n",
       "      <th>0</th>\n",
       "      <td>A1BG</td>\n",
       "      <td>ABCC6</td>\n",
       "      <td>MI:0018(two hybrid)</td>\n",
       "      <td>pubmed:21988832</td>\n",
       "      <td>BioGRID;IntAct;MatrixDB</td>\n",
       "      <td>HT</td>\n",
       "    </tr>\n",
       "    <tr>\n",
       "      <th>1</th>\n",
       "      <td>A1BG</td>\n",
       "      <td>ANXA7</td>\n",
       "      <td>MI:0018(two hybrid)</td>\n",
       "      <td>pubmed:21900206</td>\n",
       "      <td>BioGRID;IntAct;MINT;MatrixDB</td>\n",
       "      <td>HT</td>\n",
       "    </tr>\n",
       "    <tr>\n",
       "      <th>2</th>\n",
       "      <td>A1BG</td>\n",
       "      <td>CDKN1A</td>\n",
       "      <td>MI:0018(two hybrid)</td>\n",
       "      <td>pubmed:21900206</td>\n",
       "      <td>IntAct;MINT;MatrixDB;BioGRID</td>\n",
       "      <td>HT</td>\n",
       "    </tr>\n",
       "    <tr>\n",
       "      <th>3</th>\n",
       "      <td>A1BG</td>\n",
       "      <td>CRISP3</td>\n",
       "      <td>MI:0004(affinity chromatography technology)</td>\n",
       "      <td>pubmed:15461460</td>\n",
       "      <td>BioGRID</td>\n",
       "      <td>LT</td>\n",
       "    </tr>\n",
       "    <tr>\n",
       "      <th>4</th>\n",
       "      <td>A1BG</td>\n",
       "      <td>FDXR</td>\n",
       "      <td>MI:0004(affinity chromatography technology);MI...</td>\n",
       "      <td>pubmed:28514442;pubmed:33961781</td>\n",
       "      <td>BioGRID;IntAct</td>\n",
       "      <td>HT</td>\n",
       "    </tr>\n",
       "  </tbody>\n",
       "</table>\n",
       "</div>"
      ],
      "text/plain": [
       "  Gene_A  Gene_B                       Interaction_detection_method  \\\n",
       "0   A1BG   ABCC6                                MI:0018(two hybrid)   \n",
       "1   A1BG   ANXA7                                MI:0018(two hybrid)   \n",
       "2   A1BG  CDKN1A                                MI:0018(two hybrid)   \n",
       "3   A1BG  CRISP3        MI:0004(affinity chromatography technology)   \n",
       "4   A1BG    FDXR  MI:0004(affinity chromatography technology);MI...   \n",
       "\n",
       "                         Pubmed_id                      Database Throughput  \n",
       "0                  pubmed:21988832       BioGRID;IntAct;MatrixDB         HT  \n",
       "1                  pubmed:21900206  BioGRID;IntAct;MINT;MatrixDB         HT  \n",
       "2                  pubmed:21900206  IntAct;MINT;MatrixDB;BioGRID         HT  \n",
       "3                  pubmed:15461460                       BioGRID         LT  \n",
       "4  pubmed:28514442;pubmed:33961781                BioGRID;IntAct         HT  "
      ]
     },
     "execution_count": 52,
     "metadata": {},
     "output_type": "execute_result"
    }
   ],
   "source": [
    "ppi.head()"
   ]
  },
  {
   "cell_type": "code",
   "execution_count": null,
   "metadata": {},
   "outputs": [
    {
     "data": {
      "text/html": [
       "<div>\n",
       "<style scoped>\n",
       "    .dataframe tbody tr th:only-of-type {\n",
       "        vertical-align: middle;\n",
       "    }\n",
       "\n",
       "    .dataframe tbody tr th {\n",
       "        vertical-align: top;\n",
       "    }\n",
       "\n",
       "    .dataframe thead th {\n",
       "        text-align: right;\n",
       "    }\n",
       "</style>\n",
       "<table border=\"1\" class=\"dataframe\">\n",
       "  <thead>\n",
       "    <tr style=\"text-align: right;\">\n",
       "      <th></th>\n",
       "      <th>Tissue</th>\n",
       "      <th>Node_num</th>\n",
       "      <th>Edge_num</th>\n",
       "    </tr>\n",
       "  </thead>\n",
       "  <tbody>\n",
       "    <tr>\n",
       "      <th>0</th>\n",
       "      <td>Adipose.Subcutaneous</td>\n",
       "      <td>12495</td>\n",
       "      <td>507591</td>\n",
       "    </tr>\n",
       "    <tr>\n",
       "      <th>1</th>\n",
       "      <td>Adipose.Visceral_Omentum</td>\n",
       "      <td>12614</td>\n",
       "      <td>512985</td>\n",
       "    </tr>\n",
       "    <tr>\n",
       "      <th>2</th>\n",
       "      <td>Adrenal_Gland</td>\n",
       "      <td>12097</td>\n",
       "      <td>490133</td>\n",
       "    </tr>\n",
       "    <tr>\n",
       "      <th>3</th>\n",
       "      <td>Artery.Aorta</td>\n",
       "      <td>12404</td>\n",
       "      <td>503963</td>\n",
       "    </tr>\n",
       "    <tr>\n",
       "      <th>4</th>\n",
       "      <td>Artery.Coronary</td>\n",
       "      <td>12606</td>\n",
       "      <td>512106</td>\n",
       "    </tr>\n",
       "    <tr>\n",
       "      <th>5</th>\n",
       "      <td>Artery.Tibial</td>\n",
       "      <td>12152</td>\n",
       "      <td>494863</td>\n",
       "    </tr>\n",
       "    <tr>\n",
       "      <th>6</th>\n",
       "      <td>Bladder</td>\n",
       "      <td>12778</td>\n",
       "      <td>519359</td>\n",
       "    </tr>\n",
       "    <tr>\n",
       "      <th>7</th>\n",
       "      <td>Brain.Basal_ganglia</td>\n",
       "      <td>12467</td>\n",
       "      <td>493373</td>\n",
       "    </tr>\n",
       "    <tr>\n",
       "      <th>8</th>\n",
       "      <td>Brain.Cerebellum</td>\n",
       "      <td>12698</td>\n",
       "      <td>499527</td>\n",
       "    </tr>\n",
       "    <tr>\n",
       "      <th>9</th>\n",
       "      <td>Brain.Other</td>\n",
       "      <td>12509</td>\n",
       "      <td>493436</td>\n",
       "    </tr>\n",
       "    <tr>\n",
       "      <th>10</th>\n",
       "      <td>Breast.Mammary_Tissue</td>\n",
       "      <td>12904</td>\n",
       "      <td>523424</td>\n",
       "    </tr>\n",
       "    <tr>\n",
       "      <th>11</th>\n",
       "      <td>Cervix.Ectocervix</td>\n",
       "      <td>12849</td>\n",
       "      <td>519170</td>\n",
       "    </tr>\n",
       "    <tr>\n",
       "      <th>12</th>\n",
       "      <td>Cervix.Endocervix</td>\n",
       "      <td>13055</td>\n",
       "      <td>525878</td>\n",
       "    </tr>\n",
       "    <tr>\n",
       "      <th>13</th>\n",
       "      <td>Colon.Sigmoid</td>\n",
       "      <td>12579</td>\n",
       "      <td>508450</td>\n",
       "    </tr>\n",
       "    <tr>\n",
       "      <th>14</th>\n",
       "      <td>Colon.Transverse</td>\n",
       "      <td>12965</td>\n",
       "      <td>530452</td>\n",
       "    </tr>\n",
       "    <tr>\n",
       "      <th>15</th>\n",
       "      <td>Esophagus.Gastroesophageal_Junction</td>\n",
       "      <td>12432</td>\n",
       "      <td>505160</td>\n",
       "    </tr>\n",
       "    <tr>\n",
       "      <th>16</th>\n",
       "      <td>Esophagus.Mucosa</td>\n",
       "      <td>12533</td>\n",
       "      <td>521291</td>\n",
       "    </tr>\n",
       "    <tr>\n",
       "      <th>17</th>\n",
       "      <td>Esophagus.Muscularis</td>\n",
       "      <td>12386</td>\n",
       "      <td>504080</td>\n",
       "    </tr>\n",
       "    <tr>\n",
       "      <th>18</th>\n",
       "      <td>Fallopian_Tube</td>\n",
       "      <td>13225</td>\n",
       "      <td>534115</td>\n",
       "    </tr>\n",
       "    <tr>\n",
       "      <th>19</th>\n",
       "      <td>Heart.Atrial_Appendage</td>\n",
       "      <td>11876</td>\n",
       "      <td>484556</td>\n",
       "    </tr>\n",
       "    <tr>\n",
       "      <th>20</th>\n",
       "      <td>Heart.Left_Ventricle</td>\n",
       "      <td>10892</td>\n",
       "      <td>448555</td>\n",
       "    </tr>\n",
       "    <tr>\n",
       "      <th>21</th>\n",
       "      <td>Kidney.Cortex</td>\n",
       "      <td>12272</td>\n",
       "      <td>495416</td>\n",
       "    </tr>\n",
       "    <tr>\n",
       "      <th>22</th>\n",
       "      <td>Kidney.Medulla</td>\n",
       "      <td>12707</td>\n",
       "      <td>514200</td>\n",
       "    </tr>\n",
       "    <tr>\n",
       "      <th>23</th>\n",
       "      <td>Liver</td>\n",
       "      <td>11070</td>\n",
       "      <td>450975</td>\n",
       "    </tr>\n",
       "    <tr>\n",
       "      <th>24</th>\n",
       "      <td>Lung</td>\n",
       "      <td>13297</td>\n",
       "      <td>541309</td>\n",
       "    </tr>\n",
       "    <tr>\n",
       "      <th>25</th>\n",
       "      <td>Minor_Salivary_Gland</td>\n",
       "      <td>12886</td>\n",
       "      <td>525760</td>\n",
       "    </tr>\n",
       "    <tr>\n",
       "      <th>26</th>\n",
       "      <td>Muscle.Skeletal</td>\n",
       "      <td>10645</td>\n",
       "      <td>435651</td>\n",
       "    </tr>\n",
       "    <tr>\n",
       "      <th>27</th>\n",
       "      <td>Nerve.Tibial</td>\n",
       "      <td>13059</td>\n",
       "      <td>525085</td>\n",
       "    </tr>\n",
       "    <tr>\n",
       "      <th>28</th>\n",
       "      <td>Ovary</td>\n",
       "      <td>12570</td>\n",
       "      <td>505660</td>\n",
       "    </tr>\n",
       "    <tr>\n",
       "      <th>29</th>\n",
       "      <td>Pancreas</td>\n",
       "      <td>11353</td>\n",
       "      <td>463483</td>\n",
       "    </tr>\n",
       "    <tr>\n",
       "      <th>30</th>\n",
       "      <td>Pituitary</td>\n",
       "      <td>13419</td>\n",
       "      <td>532668</td>\n",
       "    </tr>\n",
       "    <tr>\n",
       "      <th>31</th>\n",
       "      <td>Prostate</td>\n",
       "      <td>13284</td>\n",
       "      <td>538132</td>\n",
       "    </tr>\n",
       "    <tr>\n",
       "      <th>32</th>\n",
       "      <td>Skin.Not_Sun_Exposed_Suprapubic</td>\n",
       "      <td>12827</td>\n",
       "      <td>526212</td>\n",
       "    </tr>\n",
       "    <tr>\n",
       "      <th>33</th>\n",
       "      <td>Skin.Sun_Exposed_Lower_leg</td>\n",
       "      <td>12893</td>\n",
       "      <td>530582</td>\n",
       "    </tr>\n",
       "    <tr>\n",
       "      <th>34</th>\n",
       "      <td>Small_Intestine.Terminal_Ileum</td>\n",
       "      <td>13168</td>\n",
       "      <td>536390</td>\n",
       "    </tr>\n",
       "    <tr>\n",
       "      <th>35</th>\n",
       "      <td>Spleen</td>\n",
       "      <td>12682</td>\n",
       "      <td>521017</td>\n",
       "    </tr>\n",
       "    <tr>\n",
       "      <th>36</th>\n",
       "      <td>Stomach</td>\n",
       "      <td>12472</td>\n",
       "      <td>508440</td>\n",
       "    </tr>\n",
       "    <tr>\n",
       "      <th>37</th>\n",
       "      <td>Testis</td>\n",
       "      <td>14831</td>\n",
       "      <td>579922</td>\n",
       "    </tr>\n",
       "    <tr>\n",
       "      <th>38</th>\n",
       "      <td>Thyroid</td>\n",
       "      <td>13097</td>\n",
       "      <td>526191</td>\n",
       "    </tr>\n",
       "    <tr>\n",
       "      <th>39</th>\n",
       "      <td>Uterus</td>\n",
       "      <td>12751</td>\n",
       "      <td>516586</td>\n",
       "    </tr>\n",
       "    <tr>\n",
       "      <th>40</th>\n",
       "      <td>Vagina</td>\n",
       "      <td>13168</td>\n",
       "      <td>541334</td>\n",
       "    </tr>\n",
       "    <tr>\n",
       "      <th>41</th>\n",
       "      <td>Whole_Blood</td>\n",
       "      <td>9473</td>\n",
       "      <td>384960</td>\n",
       "    </tr>\n",
       "  </tbody>\n",
       "</table>\n",
       "</div>"
      ],
      "text/plain": [
       "                                 Tissue  Node_num  Edge_num\n",
       "0                  Adipose.Subcutaneous     12495    507591\n",
       "1              Adipose.Visceral_Omentum     12614    512985\n",
       "2                         Adrenal_Gland     12097    490133\n",
       "3                          Artery.Aorta     12404    503963\n",
       "4                       Artery.Coronary     12606    512106\n",
       "5                         Artery.Tibial     12152    494863\n",
       "6                               Bladder     12778    519359\n",
       "7                   Brain.Basal_ganglia     12467    493373\n",
       "8                      Brain.Cerebellum     12698    499527\n",
       "9                           Brain.Other     12509    493436\n",
       "10                Breast.Mammary_Tissue     12904    523424\n",
       "11                    Cervix.Ectocervix     12849    519170\n",
       "12                    Cervix.Endocervix     13055    525878\n",
       "13                        Colon.Sigmoid     12579    508450\n",
       "14                     Colon.Transverse     12965    530452\n",
       "15  Esophagus.Gastroesophageal_Junction     12432    505160\n",
       "16                     Esophagus.Mucosa     12533    521291\n",
       "17                 Esophagus.Muscularis     12386    504080\n",
       "18                       Fallopian_Tube     13225    534115\n",
       "19               Heart.Atrial_Appendage     11876    484556\n",
       "20                 Heart.Left_Ventricle     10892    448555\n",
       "21                        Kidney.Cortex     12272    495416\n",
       "22                       Kidney.Medulla     12707    514200\n",
       "23                                Liver     11070    450975\n",
       "24                                 Lung     13297    541309\n",
       "25                 Minor_Salivary_Gland     12886    525760\n",
       "26                      Muscle.Skeletal     10645    435651\n",
       "27                         Nerve.Tibial     13059    525085\n",
       "28                                Ovary     12570    505660\n",
       "29                             Pancreas     11353    463483\n",
       "30                            Pituitary     13419    532668\n",
       "31                             Prostate     13284    538132\n",
       "32      Skin.Not_Sun_Exposed_Suprapubic     12827    526212\n",
       "33           Skin.Sun_Exposed_Lower_leg     12893    530582\n",
       "34       Small_Intestine.Terminal_Ileum     13168    536390\n",
       "35                               Spleen     12682    521017\n",
       "36                              Stomach     12472    508440\n",
       "37                               Testis     14831    579922\n",
       "38                              Thyroid     13097    526191\n",
       "39                               Uterus     12751    516586\n",
       "40                               Vagina     13168    541334\n",
       "41                          Whole_Blood      9473    384960"
      ]
     },
     "execution_count": 125,
     "metadata": {},
     "output_type": "execute_result"
    }
   ],
   "source": [
    "tnet_scale"
   ]
  },
  {
   "cell_type": "code",
   "execution_count": null,
   "metadata": {},
   "outputs": [],
   "source": []
  }
 ],
 "metadata": {
  "kernelspec": {
   "display_name": "Python 3 (ipykernel)",
   "language": "python",
   "name": "python3"
  },
  "language_info": {
   "codemirror_mode": {
    "name": "ipython",
    "version": 3
   },
   "file_extension": ".py",
   "mimetype": "text/x-python",
   "name": "python",
   "nbconvert_exporter": "python",
   "pygments_lexer": "ipython3",
   "version": "3.9.12"
  }
 },
 "nbformat": 4,
 "nbformat_minor": 4
}
